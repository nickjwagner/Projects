{
 "cells": [
  {
   "cell_type": "markdown",
   "metadata": {
    "focus": false,
    "id": "69b9a648-bcc7-490d-9f9b-ea244d156bd6"
   },
   "source": [
    "# Web Scraping for Indeed.com & Predicting Salaries"
   ]
  },
  {
   "cell_type": "markdown",
   "metadata": {
    "focus": false,
    "id": "34681254-c802-462f-829d-8894d0772d08"
   },
   "source": [
    "In this project, we will practice two major skills: collecting data by scraping a website and then building a binary classifier.\n",
    "\n",
    "We are going to collect salary information on data science jobs in a variety of markets. Then using the location, title and summary of the job we will attempt to predict the salary of the job. For job posting sites, this would be extraordinarily useful. While most listings DO NOT come with salary information (as you will see in this exercise), being to able extrapolate or predict the expected salaries from other listings can help guide negotiations.\n",
    "\n",
    "Normally, we could use regression for this task; however, we will convert this problem into classification and use a random forest regressor, as well as another classifier of your choice; either logistic regression, SVM, or KNN. \n",
    "\n",
    "- **Question**: Why would we want this to be a classification problem?\n",
    "- **Answer**: While more precision may be better, there is a fair amount of natural variance in job salaries - predicting a range be may be useful.\n",
    "\n",
    "Therefore, the first part of the assignment will be focused on scraping Indeed.com. In the second, we'll focus on using listings with salary information to build a model and predict additional salaries."
   ]
  },
  {
   "cell_type": "markdown",
   "metadata": {
    "focus": false,
    "id": "a948d79c-5527-4c0d-ab23-f5d43ce72056"
   },
   "source": [
    "### Scraping job listings from Indeed.com"
   ]
  },
  {
   "cell_type": "markdown",
   "metadata": {
    "focus": true,
    "id": "7203e0c9-e437-4802-a6ad-7dc464f94436"
   },
   "source": [
    "We will be scraping job listings from Indeed.com using BeautifulSoup. Luckily, Indeed.com is a simple text page where we can easily find relevant entries.\n",
    "\n",
    "First, look at the source of an Indeed.com page: (http://www.indeed.com/jobs?q=data+scientist+%2420%2C000&l=New+York&start=10\")\n",
    "\n",
    "Notice, each job listing is underneath a `div` tag with a class name of `result`. We can use BeautifulSoup to extract those. "
   ]
  },
  {
   "cell_type": "markdown",
   "metadata": {
    "focus": false,
    "id": "9732c901-ae26-4160-8376-42e22dd327df"
   },
   "source": [
    "#### Setup a request (using `requests`) to the URL below. Use BeautifulSoup to parse the page and extract all results (HINT: Look for div tags with class name result)\n",
    "\n",
    "The URL here has many query parameters\n",
    "\n",
    "- `q` for the job search\n",
    "- This is followed by \"+20,000\" to return results with salaries (or expected salaries >$20,000)\n",
    "- `l` for a location \n",
    "- `start` for what result number to start on"
   ]
  },
  {
   "cell_type": "markdown",
   "metadata": {},
   "source": [
    "## Import Libraries"
   ]
  },
  {
   "cell_type": "code",
   "execution_count": null,
   "metadata": {
    "collapsed": true,
    "focus": false,
    "id": "2efefc73-064a-482d-b3b5-ddf5508cb4ec"
   },
   "outputs": [],
   "source": [
    "import requests\n",
    "from bs4 import BeautifulSoup"
   ]
  },
  {
   "cell_type": "markdown",
   "metadata": {
    "focus": false,
    "id": "bb0b866a-26a7-45e9-8084-5a0f90eb4b3e"
   },
   "source": [
    "Let's look at one result more closely. A single `result` looks like\n",
    "\n",
    "```\n",
    "<div class=\" row result\" data-jk=\"2480d203f7e97210\" data-tn-component=\"organicJob\" id=\"p_2480d203f7e97210\" itemscope=\"\" itemtype=\"http://schema.org/JobPosting\">\n",
    "<h2 class=\"jobtitle\" id=\"jl_2480d203f7e97210\">\n",
    "<a class=\"turnstileLink\" data-tn-element=\"jobTitle\" onmousedown=\"return rclk(this,jobmap[0],1);\" rel=\"nofollow\" target=\"_blank\" title=\"AVP/Quantitative Analyst\">AVP/Quantitative Analyst</a>\n",
    "</h2>\n",
    "<span class=\"company\" itemprop=\"hiringOrganization\" itemtype=\"http://schema.org/Organization\">\n",
    "<span itemprop=\"name\">\n",
    "<a href=\"/cmp/Alliancebernstein?from=SERP&amp;campaignid=serp-linkcompanyname&amp;fromjk=2480d203f7e97210&amp;jcid=b374f2a780e04789\" target=\"_blank\">\n",
    "    AllianceBernstein</a></span>\n",
    "</span>\n",
    "<tr>\n",
    "<td class=\"snip\">\n",
    "<nobr>$117,500 - $127,500 a year</nobr>\n",
    "<div>\n",
    "<span class=\"summary\" itemprop=\"description\">\n",
    "C onduct quantitative and statistical research as well as portfolio management for various investment portfolios. Collaborate with Quantitative Analysts and</span>\n",
    "</div>\n",
    "</div>\n",
    "</td>\n",
    "</tr>\n",
    "</table>\n",
    "</div>\n",
    "```\n",
    "\n",
    "While this has some more verbose elements removed, we can see that there is some structure to the above:\n",
    "- The salary is available in a `nobr` element inside of a `td` element with `class='snip`.\n",
    "- The title of a job is in a link with class set to `jobtitle` and a `data-tn-element=\"jobTitle`.  \n",
    "- The location is set in a `span` with `class='location'`. \n",
    "- The company is set in a `span` with `class='company'`. "
   ]
  },
  {
   "cell_type": "markdown",
   "metadata": {
    "focus": false,
    "id": "f1eddb90-4ba8-483c-a229-77e93aa53119"
   },
   "source": [
    "### Write 4 functions to extract each item: location, company, job, and salary.\n",
    "\n",
    "example: \n",
    "```python\n",
    "def extract_location_from_result(result):\n",
    "    return result.find ...\n",
    "```\n",
    "\n",
    "\n",
    "- **Make sure these functions are robust and can handle cases where the data/field may not be available.**\n",
    "    - Remember to check if a field is empty or `None` for attempting to call methods on it\n",
    "    - Remember to use `try/except` if you anticipate errors\n",
    "- **Test** the functions on the results above and simple examples"
   ]
  },
  {
   "cell_type": "markdown",
   "metadata": {
    "focus": false,
    "id": "34070e89-9521-4b45-90c8-57a6599aac68"
   },
   "source": [
    "Now, to scale up our scraping, we need to accumulate more results. We can do this by examining the URL above.\n",
    "\n",
    "- \"http://www.indeed.com/jobs?q=data+scientist+%2420%2C000&l=New+York&start=10\"\n",
    "\n",
    "There are two query parameters here we can alter to collect more results, the `l=New+York` and the `start=10`. The first controls the location of the results (so we can try a different city). The second controls where in the results to start and gives 10 results (thus, we can keep incrementing by 10 to go further in the list)."
   ]
  },
  {
   "cell_type": "markdown",
   "metadata": {
    "focus": false,
    "id": "e8beed7c-3e42-40c0-810f-5f67f8f885a0"
   },
   "source": [
    "#### Complete the following code to collect results from multiple cities and starting points. \n",
    "- Enter your city below to add it to the search\n",
    "- Remember to convert your salary to U.S. Dollars to match the other cities if the currency is different"
   ]
  },
  {
   "cell_type": "markdown",
   "metadata": {},
   "source": [
    "## Import Data"
   ]
  },
  {
   "cell_type": "code",
   "execution_count": null,
   "metadata": {
    "collapsed": false
   },
   "outputs": [],
   "source": [
    "max_results_per_city = 4000 \n",
    "\n",
    "results = []\n",
    "\n",
    "for city in set(['New+York', 'Chicago', 'San+Francisco', 'Austin', 'Seattle', \n",
    "    'Los+Angeles', 'Philadelphia', 'Atlanta', 'Dallas', 'Pittsburgh', \n",
    "    'Portland', 'Phoenix', 'Denver', 'Houston', 'Miami', 'Washington+City%2C+DC']):\n",
    "    for start in range(0, max_results_per_city, 10):\n",
    "        r = requests.get('http://www.indeed.com/jobs?q=data+scientist+%2420%2C000&l=' + city + '&jt=fulltime&explvl=entry_level&start=' + str(start))\n",
    "        b = BeautifulSoup(r.text)\n",
    "        results.append(b.find_all(\"div\", class_ = \"result\"))\n",
    "        "
   ]
  },
  {
   "cell_type": "code",
   "execution_count": null,
   "metadata": {
    "collapsed": false
   },
   "outputs": [],
   "source": [
    "# Data in results is a list of lists. To make processing easier, I flatten to an unnested list.\n",
    "results = [item for sublist in results for item in sublist]"
   ]
  },
  {
   "cell_type": "markdown",
   "metadata": {},
   "source": [
    "## Extraction "
   ]
  },
  {
   "cell_type": "code",
   "execution_count": null,
   "metadata": {
    "collapsed": true
   },
   "outputs": [],
   "source": [
    "# Crafting the hefty \"results\" a dictionary (\"extracted\") of desired elements (job title, company, salary, location,\n",
    "# and a short job summary).\n",
    "\n",
    "extracted = {}\n",
    "\n",
    "def extraction(results):\n",
    "    titles = []\n",
    "    companies = []\n",
    "    salaries = []\n",
    "    locations = []\n",
    "    summaries = []\n",
    "    for result in results:\n",
    "        \n",
    "        # job title\n",
    "        titles.append(result.find('a',{'data-tn-element':'jobTitle'}).text)\n",
    "        \n",
    "        # company\n",
    "        try:\n",
    "            companies.append(result.find(\"span\",{'class':'company'}).get_text(strip=True))\n",
    "        except AttributeError:\n",
    "            companies.append(None)\n",
    "            \n",
    "        # salary    \n",
    "        try:\n",
    "            salaries.append(result.find(name='nobr').text)\n",
    "        except AttributeError:\n",
    "            salaries.append(None)\n",
    "     \n",
    "        # location\n",
    "        locations.append(result.find(\"span\", class_ = \"location\").text)\n",
    "        \n",
    "        # summary\n",
    "        summaries.append(result.find(\"span\", class_ = \"summary\").get_text(strip=True))\n",
    "        \n",
    "    extracted['titles'] = titles\n",
    "    extracted['companies'] = companies\n",
    "    extracted['salaries'] = salaries\n",
    "    extracted['locations'] = locations\n",
    "    extracted['summaries'] = summaries"
   ]
  },
  {
   "cell_type": "code",
   "execution_count": 1,
   "metadata": {
    "collapsed": true
   },
   "outputs": [],
   "source": [
    "import pandas as pd"
   ]
  },
  {
   "cell_type": "code",
   "execution_count": null,
   "metadata": {
    "collapsed": false
   },
   "outputs": [],
   "source": [
    "listings = pd.DataFrame.from_dict(extracted)"
   ]
  },
  {
   "cell_type": "code",
   "execution_count": null,
   "metadata": {
    "collapsed": false
   },
   "outputs": [],
   "source": [
    "# Since I'm working with a big file that takes > an hour to scrape, I save it as a csv on my desktop. This way if this\n",
    "# notebook ever crashes I won't have to go through the process of rescraping. \n",
    "listings.to_csv('/users/nick/desktop/indeed_jobs.csv', encoding='utf-8')"
   ]
  },
  {
   "cell_type": "code",
   "execution_count": 2,
   "metadata": {
    "collapsed": false
   },
   "outputs": [],
   "source": [
    "listings = pd.read_csv('/users/nick/desktop/indeed_jobs.csv')"
   ]
  },
  {
   "cell_type": "code",
   "execution_count": 3,
   "metadata": {
    "collapsed": false
   },
   "outputs": [
    {
     "data": {
      "text/html": [
       "<div>\n",
       "<table border=\"1\" class=\"dataframe\">\n",
       "  <thead>\n",
       "    <tr style=\"text-align: right;\">\n",
       "      <th></th>\n",
       "      <th>Unnamed: 0</th>\n",
       "      <th>companies</th>\n",
       "      <th>locations</th>\n",
       "      <th>salaries</th>\n",
       "      <th>summaries</th>\n",
       "      <th>titles</th>\n",
       "    </tr>\n",
       "  </thead>\n",
       "  <tbody>\n",
       "    <tr>\n",
       "      <th>0</th>\n",
       "      <td>0</td>\n",
       "      <td>Philips Lighting</td>\n",
       "      <td>United States</td>\n",
       "      <td>NaN</td>\n",
       "      <td>DataScientist/ Machine LearningScientist. Expe...</td>\n",
       "      <td>Data Scientist / Machine Learning Scientist</td>\n",
       "    </tr>\n",
       "    <tr>\n",
       "      <th>1</th>\n",
       "      <td>1</td>\n",
       "      <td>Amazon Corporate LLC</td>\n",
       "      <td>United States</td>\n",
       "      <td>NaN</td>\n",
       "      <td>As a Principal, you will provide leadership to...</td>\n",
       "      <td>Principal Data Scientist - Consumer Website- R...</td>\n",
       "    </tr>\n",
       "    <tr>\n",
       "      <th>2</th>\n",
       "      <td>2</td>\n",
       "      <td>alliantgroup</td>\n",
       "      <td>Houston, TX</td>\n",
       "      <td>NaN</td>\n",
       "      <td>Assist in the research &amp; analysis of clientdat...</td>\n",
       "      <td>Engineering Consultant</td>\n",
       "    </tr>\n",
       "    <tr>\n",
       "      <th>3</th>\n",
       "      <td>3</td>\n",
       "      <td>Baylor Miraca Genetics Laboratories LLC</td>\n",
       "      <td>Houston, TX</td>\n",
       "      <td>NaN</td>\n",
       "      <td>Utilizes established scientific techniques toc...</td>\n",
       "      <td>Research &amp; Development Scientist III</td>\n",
       "    </tr>\n",
       "    <tr>\n",
       "      <th>4</th>\n",
       "      <td>4</td>\n",
       "      <td>Rice University</td>\n",
       "      <td>Houston, TX</td>\n",
       "      <td>NaN</td>\n",
       "      <td>Faculty inDataScience. (1)datascientistswho ca...</td>\n",
       "      <td>Faculty in Data Science</td>\n",
       "    </tr>\n",
       "  </tbody>\n",
       "</table>\n",
       "</div>"
      ],
      "text/plain": [
       "   Unnamed: 0                                companies      locations  \\\n",
       "0           0                         Philips Lighting  United States   \n",
       "1           1                     Amazon Corporate LLC  United States   \n",
       "2           2                             alliantgroup    Houston, TX   \n",
       "3           3  Baylor Miraca Genetics Laboratories LLC    Houston, TX   \n",
       "4           4                          Rice University    Houston, TX   \n",
       "\n",
       "  salaries                                          summaries  \\\n",
       "0      NaN  DataScientist/ Machine LearningScientist. Expe...   \n",
       "1      NaN  As a Principal, you will provide leadership to...   \n",
       "2      NaN  Assist in the research & analysis of clientdat...   \n",
       "3      NaN  Utilizes established scientific techniques toc...   \n",
       "4      NaN  Faculty inDataScience. (1)datascientistswho ca...   \n",
       "\n",
       "                                              titles  \n",
       "0        Data Scientist / Machine Learning Scientist  \n",
       "1  Principal Data Scientist - Consumer Website- R...  \n",
       "2                             Engineering Consultant  \n",
       "3               Research & Development Scientist III  \n",
       "4                            Faculty in Data Science  "
      ]
     },
     "execution_count": 3,
     "metadata": {},
     "output_type": "execute_result"
    }
   ],
   "source": [
    "listings.head()"
   ]
  },
  {
   "cell_type": "code",
   "execution_count": 4,
   "metadata": {
    "collapsed": false
   },
   "outputs": [
    {
     "data": {
      "text/plain": [
       "(90724, 6)"
      ]
     },
     "execution_count": 4,
     "metadata": {},
     "output_type": "execute_result"
    }
   ],
   "source": [
    "# I pulled over 90,000 job postings from Indeed!\n",
    "listings.shape"
   ]
  },
  {
   "cell_type": "code",
   "execution_count": 5,
   "metadata": {
    "collapsed": true
   },
   "outputs": [],
   "source": [
    "listings.drop('Unnamed: 0', axis=1, inplace=True)"
   ]
  },
  {
   "cell_type": "markdown",
   "metadata": {
    "focus": false,
    "id": "20339c09-5032-4e27-91be-286e9b46cd13"
   },
   "source": [
    "#### Use the functions you wrote above to parse out the 4 fields - location, title, company and salary. Create a dataframe from the results with those 4 columns."
   ]
  },
  {
   "cell_type": "code",
   "execution_count": 6,
   "metadata": {
    "collapsed": false
   },
   "outputs": [
    {
     "data": {
      "text/plain": [
       "(87040, 5)"
      ]
     },
     "execution_count": 6,
     "metadata": {},
     "output_type": "execute_result"
    }
   ],
   "source": [
    "# Unfortunately, most of the job postings did not include salary information. Since these rows won't be any good for \n",
    "# model-building, I'll drop them.\n",
    "listings[listings.salaries.isnull()].shape"
   ]
  },
  {
   "cell_type": "code",
   "execution_count": 7,
   "metadata": {
    "collapsed": false
   },
   "outputs": [],
   "source": [
    "listings.dropna(subset=['salaries'], how='all', inplace = True)"
   ]
  },
  {
   "cell_type": "code",
   "execution_count": 8,
   "metadata": {
    "collapsed": false
   },
   "outputs": [],
   "source": [
    "# Getting rid of non-annual (hourly, weekly, monthly) salaries.\n",
    "listings = listings[~listings.salaries.str.contains('month') & ~listings.salaries.str.contains('week') & ~listings.salaries.str.contains('hour')]"
   ]
  },
  {
   "cell_type": "code",
   "execution_count": 9,
   "metadata": {
    "collapsed": false
   },
   "outputs": [
    {
     "data": {
      "text/plain": [
       "753"
      ]
     },
     "execution_count": 9,
     "metadata": {},
     "output_type": "execute_result"
    }
   ],
   "source": [
    "# Another issue to be wary of: a single job that was posted multiple times. I want these dropped.\n",
    "listings.duplicated().sum()"
   ]
  },
  {
   "cell_type": "code",
   "execution_count": 10,
   "metadata": {
    "collapsed": false,
    "scrolled": false
   },
   "outputs": [
    {
     "data": {
      "text/html": [
       "<div>\n",
       "<table border=\"1\" class=\"dataframe\">\n",
       "  <thead>\n",
       "    <tr style=\"text-align: right;\">\n",
       "      <th></th>\n",
       "      <th>companies</th>\n",
       "      <th>locations</th>\n",
       "      <th>salaries</th>\n",
       "      <th>summaries</th>\n",
       "      <th>titles</th>\n",
       "    </tr>\n",
       "  </thead>\n",
       "  <tbody>\n",
       "    <tr>\n",
       "      <th>23754</th>\n",
       "      <td>Pro Partners Staffing</td>\n",
       "      <td>New York, NY</td>\n",
       "      <td>$80,000 a year</td>\n",
       "      <td>Collect returns and exposuredatafor performanc...</td>\n",
       "      <td>Research/Marketing Analyst</td>\n",
       "    </tr>\n",
       "    <tr>\n",
       "      <th>23760</th>\n",
       "      <td>Pro Partners Staffing</td>\n",
       "      <td>New York, NY</td>\n",
       "      <td>$80,000 a year</td>\n",
       "      <td>Collect returns and exposuredatafor performanc...</td>\n",
       "      <td>Research/Marketing Analyst</td>\n",
       "    </tr>\n",
       "    <tr>\n",
       "      <th>23925</th>\n",
       "      <td>Selby Jennings</td>\n",
       "      <td>New York, NY 10167 (Midtown area)</td>\n",
       "      <td>$110,000 - $190,000 a year</td>\n",
       "      <td>A Tier One Investment Bank is seeking a Quanti...</td>\n",
       "      <td>Quantitative Analyst for Counterparty Risk Tea...</td>\n",
       "    </tr>\n",
       "    <tr>\n",
       "      <th>23940</th>\n",
       "      <td>Selby Jennings</td>\n",
       "      <td>New York, NY 10167 (Midtown area)</td>\n",
       "      <td>$110,000 - $190,000 a year</td>\n",
       "      <td>A Tier One Investment Bank is seeking a Quanti...</td>\n",
       "      <td>Quantitative Analyst for Counterparty Risk Tea...</td>\n",
       "    </tr>\n",
       "    <tr>\n",
       "      <th>23955</th>\n",
       "      <td>Selby Jennings</td>\n",
       "      <td>New York, NY 10167 (Midtown area)</td>\n",
       "      <td>$110,000 - $190,000 a year</td>\n",
       "      <td>A Tier One Investment Bank is seeking a Quanti...</td>\n",
       "      <td>Quantitative Analyst for Counterparty Risk Tea...</td>\n",
       "    </tr>\n",
       "    <tr>\n",
       "      <th>23970</th>\n",
       "      <td>Selby Jennings</td>\n",
       "      <td>New York, NY 10167 (Midtown area)</td>\n",
       "      <td>$110,000 - $190,000 a year</td>\n",
       "      <td>A Tier One Investment Bank is seeking a Quanti...</td>\n",
       "      <td>Quantitative Analyst for Counterparty Risk Tea...</td>\n",
       "    </tr>\n",
       "    <tr>\n",
       "      <th>23985</th>\n",
       "      <td>Selby Jennings</td>\n",
       "      <td>New York, NY 10167 (Midtown area)</td>\n",
       "      <td>$110,000 - $190,000 a year</td>\n",
       "      <td>A Tier One Investment Bank is seeking a Quanti...</td>\n",
       "      <td>Quantitative Analyst for Counterparty Risk Tea...</td>\n",
       "    </tr>\n",
       "    <tr>\n",
       "      <th>24000</th>\n",
       "      <td>Selby Jennings</td>\n",
       "      <td>New York, NY 10167 (Midtown area)</td>\n",
       "      <td>$110,000 - $190,000 a year</td>\n",
       "      <td>A Tier One Investment Bank is seeking a Quanti...</td>\n",
       "      <td>Quantitative Analyst for Counterparty Risk Tea...</td>\n",
       "    </tr>\n",
       "    <tr>\n",
       "      <th>24015</th>\n",
       "      <td>Selby Jennings</td>\n",
       "      <td>New York, NY 10167 (Midtown area)</td>\n",
       "      <td>$110,000 - $190,000 a year</td>\n",
       "      <td>A Tier One Investment Bank is seeking a Quanti...</td>\n",
       "      <td>Quantitative Analyst for Counterparty Risk Tea...</td>\n",
       "    </tr>\n",
       "    <tr>\n",
       "      <th>24030</th>\n",
       "      <td>Selby Jennings</td>\n",
       "      <td>New York, NY 10167 (Midtown area)</td>\n",
       "      <td>$110,000 - $190,000 a year</td>\n",
       "      <td>A Tier One Investment Bank is seeking a Quanti...</td>\n",
       "      <td>Quantitative Analyst for Counterparty Risk Tea...</td>\n",
       "    </tr>\n",
       "    <tr>\n",
       "      <th>24045</th>\n",
       "      <td>Selby Jennings</td>\n",
       "      <td>New York, NY 10167 (Midtown area)</td>\n",
       "      <td>$110,000 - $190,000 a year</td>\n",
       "      <td>A Tier One Investment Bank is seeking a Quanti...</td>\n",
       "      <td>Quantitative Analyst for Counterparty Risk Tea...</td>\n",
       "    </tr>\n",
       "    <tr>\n",
       "      <th>24060</th>\n",
       "      <td>Selby Jennings</td>\n",
       "      <td>New York, NY 10167 (Midtown area)</td>\n",
       "      <td>$110,000 - $190,000 a year</td>\n",
       "      <td>A Tier One Investment Bank is seeking a Quanti...</td>\n",
       "      <td>Quantitative Analyst for Counterparty Risk Tea...</td>\n",
       "    </tr>\n",
       "    <tr>\n",
       "      <th>24075</th>\n",
       "      <td>Selby Jennings</td>\n",
       "      <td>New York, NY 10167 (Midtown area)</td>\n",
       "      <td>$110,000 - $190,000 a year</td>\n",
       "      <td>A Tier One Investment Bank is seeking a Quanti...</td>\n",
       "      <td>Quantitative Analyst for Counterparty Risk Tea...</td>\n",
       "    </tr>\n",
       "    <tr>\n",
       "      <th>24090</th>\n",
       "      <td>Selby Jennings</td>\n",
       "      <td>New York, NY 10167 (Midtown area)</td>\n",
       "      <td>$110,000 - $190,000 a year</td>\n",
       "      <td>A Tier One Investment Bank is seeking a Quanti...</td>\n",
       "      <td>Quantitative Analyst for Counterparty Risk Tea...</td>\n",
       "    </tr>\n",
       "    <tr>\n",
       "      <th>24105</th>\n",
       "      <td>Selby Jennings</td>\n",
       "      <td>New York, NY 10167 (Midtown area)</td>\n",
       "      <td>$110,000 - $190,000 a year</td>\n",
       "      <td>A Tier One Investment Bank is seeking a Quanti...</td>\n",
       "      <td>Quantitative Analyst for Counterparty Risk Tea...</td>\n",
       "    </tr>\n",
       "    <tr>\n",
       "      <th>24120</th>\n",
       "      <td>Selby Jennings</td>\n",
       "      <td>New York, NY 10167 (Midtown area)</td>\n",
       "      <td>$110,000 - $190,000 a year</td>\n",
       "      <td>A Tier One Investment Bank is seeking a Quanti...</td>\n",
       "      <td>Quantitative Analyst for Counterparty Risk Tea...</td>\n",
       "    </tr>\n",
       "    <tr>\n",
       "      <th>24135</th>\n",
       "      <td>Selby Jennings</td>\n",
       "      <td>New York, NY 10167 (Midtown area)</td>\n",
       "      <td>$110,000 - $190,000 a year</td>\n",
       "      <td>A Tier One Investment Bank is seeking a Quanti...</td>\n",
       "      <td>Quantitative Analyst for Counterparty Risk Tea...</td>\n",
       "    </tr>\n",
       "    <tr>\n",
       "      <th>24150</th>\n",
       "      <td>Selby Jennings</td>\n",
       "      <td>New York, NY 10167 (Midtown area)</td>\n",
       "      <td>$110,000 - $190,000 a year</td>\n",
       "      <td>A Tier One Investment Bank is seeking a Quanti...</td>\n",
       "      <td>Quantitative Analyst for Counterparty Risk Tea...</td>\n",
       "    </tr>\n",
       "    <tr>\n",
       "      <th>24165</th>\n",
       "      <td>Selby Jennings</td>\n",
       "      <td>New York, NY 10167 (Midtown area)</td>\n",
       "      <td>$110,000 - $190,000 a year</td>\n",
       "      <td>A Tier One Investment Bank is seeking a Quanti...</td>\n",
       "      <td>Quantitative Analyst for Counterparty Risk Tea...</td>\n",
       "    </tr>\n",
       "    <tr>\n",
       "      <th>24180</th>\n",
       "      <td>Selby Jennings</td>\n",
       "      <td>New York, NY 10167 (Midtown area)</td>\n",
       "      <td>$110,000 - $190,000 a year</td>\n",
       "      <td>A Tier One Investment Bank is seeking a Quanti...</td>\n",
       "      <td>Quantitative Analyst for Counterparty Risk Tea...</td>\n",
       "    </tr>\n",
       "    <tr>\n",
       "      <th>24195</th>\n",
       "      <td>Selby Jennings</td>\n",
       "      <td>New York, NY 10167 (Midtown area)</td>\n",
       "      <td>$110,000 - $190,000 a year</td>\n",
       "      <td>A Tier One Investment Bank is seeking a Quanti...</td>\n",
       "      <td>Quantitative Analyst for Counterparty Risk Tea...</td>\n",
       "    </tr>\n",
       "    <tr>\n",
       "      <th>24210</th>\n",
       "      <td>Selby Jennings</td>\n",
       "      <td>New York, NY 10167 (Midtown area)</td>\n",
       "      <td>$110,000 - $190,000 a year</td>\n",
       "      <td>A Tier One Investment Bank is seeking a Quanti...</td>\n",
       "      <td>Quantitative Analyst for Counterparty Risk Tea...</td>\n",
       "    </tr>\n",
       "    <tr>\n",
       "      <th>24225</th>\n",
       "      <td>Selby Jennings</td>\n",
       "      <td>New York, NY 10167 (Midtown area)</td>\n",
       "      <td>$110,000 - $190,000 a year</td>\n",
       "      <td>A Tier One Investment Bank is seeking a Quanti...</td>\n",
       "      <td>Quantitative Analyst for Counterparty Risk Tea...</td>\n",
       "    </tr>\n",
       "    <tr>\n",
       "      <th>24240</th>\n",
       "      <td>Selby Jennings</td>\n",
       "      <td>New York, NY 10167 (Midtown area)</td>\n",
       "      <td>$110,000 - $190,000 a year</td>\n",
       "      <td>A Tier One Investment Bank is seeking a Quanti...</td>\n",
       "      <td>Quantitative Analyst for Counterparty Risk Tea...</td>\n",
       "    </tr>\n",
       "    <tr>\n",
       "      <th>24256</th>\n",
       "      <td>Selby Jennings</td>\n",
       "      <td>New York, NY 10167 (Midtown area)</td>\n",
       "      <td>$110,000 - $190,000 a year</td>\n",
       "      <td>A Tier One Investment Bank is seeking a Quanti...</td>\n",
       "      <td>Quantitative Analyst for Counterparty Risk Tea...</td>\n",
       "    </tr>\n",
       "    <tr>\n",
       "      <th>24270</th>\n",
       "      <td>Selby Jennings</td>\n",
       "      <td>New York, NY 10167 (Midtown area)</td>\n",
       "      <td>$110,000 - $190,000 a year</td>\n",
       "      <td>A Tier One Investment Bank is seeking a Quanti...</td>\n",
       "      <td>Quantitative Analyst for Counterparty Risk Tea...</td>\n",
       "    </tr>\n",
       "    <tr>\n",
       "      <th>24285</th>\n",
       "      <td>Selby Jennings</td>\n",
       "      <td>New York, NY 10167 (Midtown area)</td>\n",
       "      <td>$110,000 - $190,000 a year</td>\n",
       "      <td>A Tier One Investment Bank is seeking a Quanti...</td>\n",
       "      <td>Quantitative Analyst for Counterparty Risk Tea...</td>\n",
       "    </tr>\n",
       "    <tr>\n",
       "      <th>24300</th>\n",
       "      <td>Selby Jennings</td>\n",
       "      <td>New York, NY 10167 (Midtown area)</td>\n",
       "      <td>$110,000 - $190,000 a year</td>\n",
       "      <td>A Tier One Investment Bank is seeking a Quanti...</td>\n",
       "      <td>Quantitative Analyst for Counterparty Risk Tea...</td>\n",
       "    </tr>\n",
       "    <tr>\n",
       "      <th>24315</th>\n",
       "      <td>Selby Jennings</td>\n",
       "      <td>New York, NY 10167 (Midtown area)</td>\n",
       "      <td>$110,000 - $190,000 a year</td>\n",
       "      <td>A Tier One Investment Bank is seeking a Quanti...</td>\n",
       "      <td>Quantitative Analyst for Counterparty Risk Tea...</td>\n",
       "    </tr>\n",
       "    <tr>\n",
       "      <th>24330</th>\n",
       "      <td>Selby Jennings</td>\n",
       "      <td>New York, NY 10167 (Midtown area)</td>\n",
       "      <td>$110,000 - $190,000 a year</td>\n",
       "      <td>A Tier One Investment Bank is seeking a Quanti...</td>\n",
       "      <td>Quantitative Analyst for Counterparty Risk Tea...</td>\n",
       "    </tr>\n",
       "    <tr>\n",
       "      <th>...</th>\n",
       "      <td>...</td>\n",
       "      <td>...</td>\n",
       "      <td>...</td>\n",
       "      <td>...</td>\n",
       "      <td>...</td>\n",
       "    </tr>\n",
       "    <tr>\n",
       "      <th>56227</th>\n",
       "      <td>The University of Pittsburgh</td>\n",
       "      <td>Pittsburgh, PA</td>\n",
       "      <td>$20,904 - $32,760 a year</td>\n",
       "      <td>Cell culture, RNA and DNA ,dataanalysis. Train...</td>\n",
       "      <td>Research Technician</td>\n",
       "    </tr>\n",
       "    <tr>\n",
       "      <th>56237</th>\n",
       "      <td>The University of Pittsburgh</td>\n",
       "      <td>Pittsburgh, PA</td>\n",
       "      <td>$20,904 - $32,760 a year</td>\n",
       "      <td>Cell culture, RNA and DNA ,dataanalysis. Train...</td>\n",
       "      <td>Research Technician</td>\n",
       "    </tr>\n",
       "    <tr>\n",
       "      <th>56247</th>\n",
       "      <td>The University of Pittsburgh</td>\n",
       "      <td>Pittsburgh, PA</td>\n",
       "      <td>$20,904 - $32,760 a year</td>\n",
       "      <td>Cell culture, RNA and DNA ,dataanalysis. Train...</td>\n",
       "      <td>Research Technician</td>\n",
       "    </tr>\n",
       "    <tr>\n",
       "      <th>56255</th>\n",
       "      <td>The University of Pittsburgh</td>\n",
       "      <td>Pittsburgh, PA</td>\n",
       "      <td>$20,904 - $32,760 a year</td>\n",
       "      <td>Cell culture, RNA and DNA ,dataanalysis. Train...</td>\n",
       "      <td>Research Technician</td>\n",
       "    </tr>\n",
       "    <tr>\n",
       "      <th>56265</th>\n",
       "      <td>The University of Pittsburgh</td>\n",
       "      <td>Pittsburgh, PA</td>\n",
       "      <td>$20,904 - $32,760 a year</td>\n",
       "      <td>Cell culture, RNA and DNA ,dataanalysis. Train...</td>\n",
       "      <td>Research Technician</td>\n",
       "    </tr>\n",
       "    <tr>\n",
       "      <th>56275</th>\n",
       "      <td>The University of Pittsburgh</td>\n",
       "      <td>Pittsburgh, PA</td>\n",
       "      <td>$20,904 - $32,760 a year</td>\n",
       "      <td>Cell culture, RNA and DNA ,dataanalysis. Train...</td>\n",
       "      <td>Research Technician</td>\n",
       "    </tr>\n",
       "    <tr>\n",
       "      <th>56285</th>\n",
       "      <td>The University of Pittsburgh</td>\n",
       "      <td>Pittsburgh, PA</td>\n",
       "      <td>$20,904 - $32,760 a year</td>\n",
       "      <td>Cell culture, RNA and DNA ,dataanalysis. Train...</td>\n",
       "      <td>Research Technician</td>\n",
       "    </tr>\n",
       "    <tr>\n",
       "      <th>56297</th>\n",
       "      <td>The University of Pittsburgh</td>\n",
       "      <td>Pittsburgh, PA</td>\n",
       "      <td>$20,904 - $32,760 a year</td>\n",
       "      <td>Cell culture, RNA and DNA ,dataanalysis. Train...</td>\n",
       "      <td>Research Technician</td>\n",
       "    </tr>\n",
       "    <tr>\n",
       "      <th>56307</th>\n",
       "      <td>The University of Pittsburgh</td>\n",
       "      <td>Pittsburgh, PA</td>\n",
       "      <td>$20,904 - $32,760 a year</td>\n",
       "      <td>Cell culture, RNA and DNA ,dataanalysis. Train...</td>\n",
       "      <td>Research Technician</td>\n",
       "    </tr>\n",
       "    <tr>\n",
       "      <th>56315</th>\n",
       "      <td>The University of Pittsburgh</td>\n",
       "      <td>Pittsburgh, PA</td>\n",
       "      <td>$20,904 - $32,760 a year</td>\n",
       "      <td>Cell culture, RNA and DNA ,dataanalysis. Train...</td>\n",
       "      <td>Research Technician</td>\n",
       "    </tr>\n",
       "    <tr>\n",
       "      <th>56325</th>\n",
       "      <td>The University of Pittsburgh</td>\n",
       "      <td>Pittsburgh, PA</td>\n",
       "      <td>$20,904 - $32,760 a year</td>\n",
       "      <td>Cell culture, RNA and DNA ,dataanalysis. Train...</td>\n",
       "      <td>Research Technician</td>\n",
       "    </tr>\n",
       "    <tr>\n",
       "      <th>56335</th>\n",
       "      <td>The University of Pittsburgh</td>\n",
       "      <td>Pittsburgh, PA</td>\n",
       "      <td>$20,904 - $32,760 a year</td>\n",
       "      <td>Cell culture, RNA and DNA ,dataanalysis. Train...</td>\n",
       "      <td>Research Technician</td>\n",
       "    </tr>\n",
       "    <tr>\n",
       "      <th>56347</th>\n",
       "      <td>The University of Pittsburgh</td>\n",
       "      <td>Pittsburgh, PA</td>\n",
       "      <td>$20,904 - $32,760 a year</td>\n",
       "      <td>Cell culture, RNA and DNA ,dataanalysis. Train...</td>\n",
       "      <td>Research Technician</td>\n",
       "    </tr>\n",
       "    <tr>\n",
       "      <th>56355</th>\n",
       "      <td>The University of Pittsburgh</td>\n",
       "      <td>Pittsburgh, PA</td>\n",
       "      <td>$20,904 - $32,760 a year</td>\n",
       "      <td>Cell culture, RNA and DNA ,dataanalysis. Train...</td>\n",
       "      <td>Research Technician</td>\n",
       "    </tr>\n",
       "    <tr>\n",
       "      <th>56365</th>\n",
       "      <td>The University of Pittsburgh</td>\n",
       "      <td>Pittsburgh, PA</td>\n",
       "      <td>$20,904 - $32,760 a year</td>\n",
       "      <td>Cell culture, RNA and DNA ,dataanalysis. Train...</td>\n",
       "      <td>Research Technician</td>\n",
       "    </tr>\n",
       "    <tr>\n",
       "      <th>56375</th>\n",
       "      <td>The University of Pittsburgh</td>\n",
       "      <td>Pittsburgh, PA</td>\n",
       "      <td>$20,904 - $32,760 a year</td>\n",
       "      <td>Cell culture, RNA and DNA ,dataanalysis. Train...</td>\n",
       "      <td>Research Technician</td>\n",
       "    </tr>\n",
       "    <tr>\n",
       "      <th>56387</th>\n",
       "      <td>The University of Pittsburgh</td>\n",
       "      <td>Pittsburgh, PA</td>\n",
       "      <td>$20,904 - $32,760 a year</td>\n",
       "      <td>Cell culture, RNA and DNA ,dataanalysis. Train...</td>\n",
       "      <td>Research Technician</td>\n",
       "    </tr>\n",
       "    <tr>\n",
       "      <th>56397</th>\n",
       "      <td>The University of Pittsburgh</td>\n",
       "      <td>Pittsburgh, PA</td>\n",
       "      <td>$20,904 - $32,760 a year</td>\n",
       "      <td>Cell culture, RNA and DNA ,dataanalysis. Train...</td>\n",
       "      <td>Research Technician</td>\n",
       "    </tr>\n",
       "    <tr>\n",
       "      <th>56405</th>\n",
       "      <td>The University of Pittsburgh</td>\n",
       "      <td>Pittsburgh, PA</td>\n",
       "      <td>$20,904 - $32,760 a year</td>\n",
       "      <td>Cell culture, RNA and DNA ,dataanalysis. Train...</td>\n",
       "      <td>Research Technician</td>\n",
       "    </tr>\n",
       "    <tr>\n",
       "      <th>56417</th>\n",
       "      <td>The University of Pittsburgh</td>\n",
       "      <td>Pittsburgh, PA</td>\n",
       "      <td>$20,904 - $32,760 a year</td>\n",
       "      <td>Cell culture, RNA and DNA ,dataanalysis. Train...</td>\n",
       "      <td>Research Technician</td>\n",
       "    </tr>\n",
       "    <tr>\n",
       "      <th>56425</th>\n",
       "      <td>The University of Pittsburgh</td>\n",
       "      <td>Pittsburgh, PA</td>\n",
       "      <td>$20,904 - $32,760 a year</td>\n",
       "      <td>Cell culture, RNA and DNA ,dataanalysis. Train...</td>\n",
       "      <td>Research Technician</td>\n",
       "    </tr>\n",
       "    <tr>\n",
       "      <th>56435</th>\n",
       "      <td>The University of Pittsburgh</td>\n",
       "      <td>Pittsburgh, PA</td>\n",
       "      <td>$20,904 - $32,760 a year</td>\n",
       "      <td>Cell culture, RNA and DNA ,dataanalysis. Train...</td>\n",
       "      <td>Research Technician</td>\n",
       "    </tr>\n",
       "    <tr>\n",
       "      <th>56447</th>\n",
       "      <td>The University of Pittsburgh</td>\n",
       "      <td>Pittsburgh, PA</td>\n",
       "      <td>$20,904 - $32,760 a year</td>\n",
       "      <td>Cell culture, RNA and DNA ,dataanalysis. Train...</td>\n",
       "      <td>Research Technician</td>\n",
       "    </tr>\n",
       "    <tr>\n",
       "      <th>56457</th>\n",
       "      <td>The University of Pittsburgh</td>\n",
       "      <td>Pittsburgh, PA</td>\n",
       "      <td>$20,904 - $32,760 a year</td>\n",
       "      <td>Cell culture, RNA and DNA ,dataanalysis. Train...</td>\n",
       "      <td>Research Technician</td>\n",
       "    </tr>\n",
       "    <tr>\n",
       "      <th>56465</th>\n",
       "      <td>The University of Pittsburgh</td>\n",
       "      <td>Pittsburgh, PA</td>\n",
       "      <td>$20,904 - $32,760 a year</td>\n",
       "      <td>Cell culture, RNA and DNA ,dataanalysis. Train...</td>\n",
       "      <td>Research Technician</td>\n",
       "    </tr>\n",
       "    <tr>\n",
       "      <th>56477</th>\n",
       "      <td>The University of Pittsburgh</td>\n",
       "      <td>Pittsburgh, PA</td>\n",
       "      <td>$20,904 - $32,760 a year</td>\n",
       "      <td>Cell culture, RNA and DNA ,dataanalysis. Train...</td>\n",
       "      <td>Research Technician</td>\n",
       "    </tr>\n",
       "    <tr>\n",
       "      <th>56487</th>\n",
       "      <td>The University of Pittsburgh</td>\n",
       "      <td>Pittsburgh, PA</td>\n",
       "      <td>$20,904 - $32,760 a year</td>\n",
       "      <td>Cell culture, RNA and DNA ,dataanalysis. Train...</td>\n",
       "      <td>Research Technician</td>\n",
       "    </tr>\n",
       "    <tr>\n",
       "      <th>56495</th>\n",
       "      <td>The University of Pittsburgh</td>\n",
       "      <td>Pittsburgh, PA</td>\n",
       "      <td>$20,904 - $32,760 a year</td>\n",
       "      <td>Cell culture, RNA and DNA ,dataanalysis. Train...</td>\n",
       "      <td>Research Technician</td>\n",
       "    </tr>\n",
       "    <tr>\n",
       "      <th>56505</th>\n",
       "      <td>The University of Pittsburgh</td>\n",
       "      <td>Pittsburgh, PA</td>\n",
       "      <td>$20,904 - $32,760 a year</td>\n",
       "      <td>Cell culture, RNA and DNA ,dataanalysis. Train...</td>\n",
       "      <td>Research Technician</td>\n",
       "    </tr>\n",
       "    <tr>\n",
       "      <th>56515</th>\n",
       "      <td>The University of Pittsburgh</td>\n",
       "      <td>Pittsburgh, PA</td>\n",
       "      <td>$20,904 - $32,760 a year</td>\n",
       "      <td>Cell culture, RNA and DNA ,dataanalysis. Train...</td>\n",
       "      <td>Research Technician</td>\n",
       "    </tr>\n",
       "  </tbody>\n",
       "</table>\n",
       "<p>756 rows × 5 columns</p>\n",
       "</div>"
      ],
      "text/plain": [
       "                          companies                          locations  \\\n",
       "23754         Pro Partners Staffing                       New York, NY   \n",
       "23760         Pro Partners Staffing                       New York, NY   \n",
       "23925                Selby Jennings  New York, NY 10167 (Midtown area)   \n",
       "23940                Selby Jennings  New York, NY 10167 (Midtown area)   \n",
       "23955                Selby Jennings  New York, NY 10167 (Midtown area)   \n",
       "23970                Selby Jennings  New York, NY 10167 (Midtown area)   \n",
       "23985                Selby Jennings  New York, NY 10167 (Midtown area)   \n",
       "24000                Selby Jennings  New York, NY 10167 (Midtown area)   \n",
       "24015                Selby Jennings  New York, NY 10167 (Midtown area)   \n",
       "24030                Selby Jennings  New York, NY 10167 (Midtown area)   \n",
       "24045                Selby Jennings  New York, NY 10167 (Midtown area)   \n",
       "24060                Selby Jennings  New York, NY 10167 (Midtown area)   \n",
       "24075                Selby Jennings  New York, NY 10167 (Midtown area)   \n",
       "24090                Selby Jennings  New York, NY 10167 (Midtown area)   \n",
       "24105                Selby Jennings  New York, NY 10167 (Midtown area)   \n",
       "24120                Selby Jennings  New York, NY 10167 (Midtown area)   \n",
       "24135                Selby Jennings  New York, NY 10167 (Midtown area)   \n",
       "24150                Selby Jennings  New York, NY 10167 (Midtown area)   \n",
       "24165                Selby Jennings  New York, NY 10167 (Midtown area)   \n",
       "24180                Selby Jennings  New York, NY 10167 (Midtown area)   \n",
       "24195                Selby Jennings  New York, NY 10167 (Midtown area)   \n",
       "24210                Selby Jennings  New York, NY 10167 (Midtown area)   \n",
       "24225                Selby Jennings  New York, NY 10167 (Midtown area)   \n",
       "24240                Selby Jennings  New York, NY 10167 (Midtown area)   \n",
       "24256                Selby Jennings  New York, NY 10167 (Midtown area)   \n",
       "24270                Selby Jennings  New York, NY 10167 (Midtown area)   \n",
       "24285                Selby Jennings  New York, NY 10167 (Midtown area)   \n",
       "24300                Selby Jennings  New York, NY 10167 (Midtown area)   \n",
       "24315                Selby Jennings  New York, NY 10167 (Midtown area)   \n",
       "24330                Selby Jennings  New York, NY 10167 (Midtown area)   \n",
       "...                             ...                                ...   \n",
       "56227  The University of Pittsburgh                     Pittsburgh, PA   \n",
       "56237  The University of Pittsburgh                     Pittsburgh, PA   \n",
       "56247  The University of Pittsburgh                     Pittsburgh, PA   \n",
       "56255  The University of Pittsburgh                     Pittsburgh, PA   \n",
       "56265  The University of Pittsburgh                     Pittsburgh, PA   \n",
       "56275  The University of Pittsburgh                     Pittsburgh, PA   \n",
       "56285  The University of Pittsburgh                     Pittsburgh, PA   \n",
       "56297  The University of Pittsburgh                     Pittsburgh, PA   \n",
       "56307  The University of Pittsburgh                     Pittsburgh, PA   \n",
       "56315  The University of Pittsburgh                     Pittsburgh, PA   \n",
       "56325  The University of Pittsburgh                     Pittsburgh, PA   \n",
       "56335  The University of Pittsburgh                     Pittsburgh, PA   \n",
       "56347  The University of Pittsburgh                     Pittsburgh, PA   \n",
       "56355  The University of Pittsburgh                     Pittsburgh, PA   \n",
       "56365  The University of Pittsburgh                     Pittsburgh, PA   \n",
       "56375  The University of Pittsburgh                     Pittsburgh, PA   \n",
       "56387  The University of Pittsburgh                     Pittsburgh, PA   \n",
       "56397  The University of Pittsburgh                     Pittsburgh, PA   \n",
       "56405  The University of Pittsburgh                     Pittsburgh, PA   \n",
       "56417  The University of Pittsburgh                     Pittsburgh, PA   \n",
       "56425  The University of Pittsburgh                     Pittsburgh, PA   \n",
       "56435  The University of Pittsburgh                     Pittsburgh, PA   \n",
       "56447  The University of Pittsburgh                     Pittsburgh, PA   \n",
       "56457  The University of Pittsburgh                     Pittsburgh, PA   \n",
       "56465  The University of Pittsburgh                     Pittsburgh, PA   \n",
       "56477  The University of Pittsburgh                     Pittsburgh, PA   \n",
       "56487  The University of Pittsburgh                     Pittsburgh, PA   \n",
       "56495  The University of Pittsburgh                     Pittsburgh, PA   \n",
       "56505  The University of Pittsburgh                     Pittsburgh, PA   \n",
       "56515  The University of Pittsburgh                     Pittsburgh, PA   \n",
       "\n",
       "                         salaries  \\\n",
       "23754              $80,000 a year   \n",
       "23760              $80,000 a year   \n",
       "23925  $110,000 - $190,000 a year   \n",
       "23940  $110,000 - $190,000 a year   \n",
       "23955  $110,000 - $190,000 a year   \n",
       "23970  $110,000 - $190,000 a year   \n",
       "23985  $110,000 - $190,000 a year   \n",
       "24000  $110,000 - $190,000 a year   \n",
       "24015  $110,000 - $190,000 a year   \n",
       "24030  $110,000 - $190,000 a year   \n",
       "24045  $110,000 - $190,000 a year   \n",
       "24060  $110,000 - $190,000 a year   \n",
       "24075  $110,000 - $190,000 a year   \n",
       "24090  $110,000 - $190,000 a year   \n",
       "24105  $110,000 - $190,000 a year   \n",
       "24120  $110,000 - $190,000 a year   \n",
       "24135  $110,000 - $190,000 a year   \n",
       "24150  $110,000 - $190,000 a year   \n",
       "24165  $110,000 - $190,000 a year   \n",
       "24180  $110,000 - $190,000 a year   \n",
       "24195  $110,000 - $190,000 a year   \n",
       "24210  $110,000 - $190,000 a year   \n",
       "24225  $110,000 - $190,000 a year   \n",
       "24240  $110,000 - $190,000 a year   \n",
       "24256  $110,000 - $190,000 a year   \n",
       "24270  $110,000 - $190,000 a year   \n",
       "24285  $110,000 - $190,000 a year   \n",
       "24300  $110,000 - $190,000 a year   \n",
       "24315  $110,000 - $190,000 a year   \n",
       "24330  $110,000 - $190,000 a year   \n",
       "...                           ...   \n",
       "56227    $20,904 - $32,760 a year   \n",
       "56237    $20,904 - $32,760 a year   \n",
       "56247    $20,904 - $32,760 a year   \n",
       "56255    $20,904 - $32,760 a year   \n",
       "56265    $20,904 - $32,760 a year   \n",
       "56275    $20,904 - $32,760 a year   \n",
       "56285    $20,904 - $32,760 a year   \n",
       "56297    $20,904 - $32,760 a year   \n",
       "56307    $20,904 - $32,760 a year   \n",
       "56315    $20,904 - $32,760 a year   \n",
       "56325    $20,904 - $32,760 a year   \n",
       "56335    $20,904 - $32,760 a year   \n",
       "56347    $20,904 - $32,760 a year   \n",
       "56355    $20,904 - $32,760 a year   \n",
       "56365    $20,904 - $32,760 a year   \n",
       "56375    $20,904 - $32,760 a year   \n",
       "56387    $20,904 - $32,760 a year   \n",
       "56397    $20,904 - $32,760 a year   \n",
       "56405    $20,904 - $32,760 a year   \n",
       "56417    $20,904 - $32,760 a year   \n",
       "56425    $20,904 - $32,760 a year   \n",
       "56435    $20,904 - $32,760 a year   \n",
       "56447    $20,904 - $32,760 a year   \n",
       "56457    $20,904 - $32,760 a year   \n",
       "56465    $20,904 - $32,760 a year   \n",
       "56477    $20,904 - $32,760 a year   \n",
       "56487    $20,904 - $32,760 a year   \n",
       "56495    $20,904 - $32,760 a year   \n",
       "56505    $20,904 - $32,760 a year   \n",
       "56515    $20,904 - $32,760 a year   \n",
       "\n",
       "                                               summaries  \\\n",
       "23754  Collect returns and exposuredatafor performanc...   \n",
       "23760  Collect returns and exposuredatafor performanc...   \n",
       "23925  A Tier One Investment Bank is seeking a Quanti...   \n",
       "23940  A Tier One Investment Bank is seeking a Quanti...   \n",
       "23955  A Tier One Investment Bank is seeking a Quanti...   \n",
       "23970  A Tier One Investment Bank is seeking a Quanti...   \n",
       "23985  A Tier One Investment Bank is seeking a Quanti...   \n",
       "24000  A Tier One Investment Bank is seeking a Quanti...   \n",
       "24015  A Tier One Investment Bank is seeking a Quanti...   \n",
       "24030  A Tier One Investment Bank is seeking a Quanti...   \n",
       "24045  A Tier One Investment Bank is seeking a Quanti...   \n",
       "24060  A Tier One Investment Bank is seeking a Quanti...   \n",
       "24075  A Tier One Investment Bank is seeking a Quanti...   \n",
       "24090  A Tier One Investment Bank is seeking a Quanti...   \n",
       "24105  A Tier One Investment Bank is seeking a Quanti...   \n",
       "24120  A Tier One Investment Bank is seeking a Quanti...   \n",
       "24135  A Tier One Investment Bank is seeking a Quanti...   \n",
       "24150  A Tier One Investment Bank is seeking a Quanti...   \n",
       "24165  A Tier One Investment Bank is seeking a Quanti...   \n",
       "24180  A Tier One Investment Bank is seeking a Quanti...   \n",
       "24195  A Tier One Investment Bank is seeking a Quanti...   \n",
       "24210  A Tier One Investment Bank is seeking a Quanti...   \n",
       "24225  A Tier One Investment Bank is seeking a Quanti...   \n",
       "24240  A Tier One Investment Bank is seeking a Quanti...   \n",
       "24256  A Tier One Investment Bank is seeking a Quanti...   \n",
       "24270  A Tier One Investment Bank is seeking a Quanti...   \n",
       "24285  A Tier One Investment Bank is seeking a Quanti...   \n",
       "24300  A Tier One Investment Bank is seeking a Quanti...   \n",
       "24315  A Tier One Investment Bank is seeking a Quanti...   \n",
       "24330  A Tier One Investment Bank is seeking a Quanti...   \n",
       "...                                                  ...   \n",
       "56227  Cell culture, RNA and DNA ,dataanalysis. Train...   \n",
       "56237  Cell culture, RNA and DNA ,dataanalysis. Train...   \n",
       "56247  Cell culture, RNA and DNA ,dataanalysis. Train...   \n",
       "56255  Cell culture, RNA and DNA ,dataanalysis. Train...   \n",
       "56265  Cell culture, RNA and DNA ,dataanalysis. Train...   \n",
       "56275  Cell culture, RNA and DNA ,dataanalysis. Train...   \n",
       "56285  Cell culture, RNA and DNA ,dataanalysis. Train...   \n",
       "56297  Cell culture, RNA and DNA ,dataanalysis. Train...   \n",
       "56307  Cell culture, RNA and DNA ,dataanalysis. Train...   \n",
       "56315  Cell culture, RNA and DNA ,dataanalysis. Train...   \n",
       "56325  Cell culture, RNA and DNA ,dataanalysis. Train...   \n",
       "56335  Cell culture, RNA and DNA ,dataanalysis. Train...   \n",
       "56347  Cell culture, RNA and DNA ,dataanalysis. Train...   \n",
       "56355  Cell culture, RNA and DNA ,dataanalysis. Train...   \n",
       "56365  Cell culture, RNA and DNA ,dataanalysis. Train...   \n",
       "56375  Cell culture, RNA and DNA ,dataanalysis. Train...   \n",
       "56387  Cell culture, RNA and DNA ,dataanalysis. Train...   \n",
       "56397  Cell culture, RNA and DNA ,dataanalysis. Train...   \n",
       "56405  Cell culture, RNA and DNA ,dataanalysis. Train...   \n",
       "56417  Cell culture, RNA and DNA ,dataanalysis. Train...   \n",
       "56425  Cell culture, RNA and DNA ,dataanalysis. Train...   \n",
       "56435  Cell culture, RNA and DNA ,dataanalysis. Train...   \n",
       "56447  Cell culture, RNA and DNA ,dataanalysis. Train...   \n",
       "56457  Cell culture, RNA and DNA ,dataanalysis. Train...   \n",
       "56465  Cell culture, RNA and DNA ,dataanalysis. Train...   \n",
       "56477  Cell culture, RNA and DNA ,dataanalysis. Train...   \n",
       "56487  Cell culture, RNA and DNA ,dataanalysis. Train...   \n",
       "56495  Cell culture, RNA and DNA ,dataanalysis. Train...   \n",
       "56505  Cell culture, RNA and DNA ,dataanalysis. Train...   \n",
       "56515  Cell culture, RNA and DNA ,dataanalysis. Train...   \n",
       "\n",
       "                                                  titles  \n",
       "23754                         Research/Marketing Analyst  \n",
       "23760                         Research/Marketing Analyst  \n",
       "23925  Quantitative Analyst for Counterparty Risk Tea...  \n",
       "23940  Quantitative Analyst for Counterparty Risk Tea...  \n",
       "23955  Quantitative Analyst for Counterparty Risk Tea...  \n",
       "23970  Quantitative Analyst for Counterparty Risk Tea...  \n",
       "23985  Quantitative Analyst for Counterparty Risk Tea...  \n",
       "24000  Quantitative Analyst for Counterparty Risk Tea...  \n",
       "24015  Quantitative Analyst for Counterparty Risk Tea...  \n",
       "24030  Quantitative Analyst for Counterparty Risk Tea...  \n",
       "24045  Quantitative Analyst for Counterparty Risk Tea...  \n",
       "24060  Quantitative Analyst for Counterparty Risk Tea...  \n",
       "24075  Quantitative Analyst for Counterparty Risk Tea...  \n",
       "24090  Quantitative Analyst for Counterparty Risk Tea...  \n",
       "24105  Quantitative Analyst for Counterparty Risk Tea...  \n",
       "24120  Quantitative Analyst for Counterparty Risk Tea...  \n",
       "24135  Quantitative Analyst for Counterparty Risk Tea...  \n",
       "24150  Quantitative Analyst for Counterparty Risk Tea...  \n",
       "24165  Quantitative Analyst for Counterparty Risk Tea...  \n",
       "24180  Quantitative Analyst for Counterparty Risk Tea...  \n",
       "24195  Quantitative Analyst for Counterparty Risk Tea...  \n",
       "24210  Quantitative Analyst for Counterparty Risk Tea...  \n",
       "24225  Quantitative Analyst for Counterparty Risk Tea...  \n",
       "24240  Quantitative Analyst for Counterparty Risk Tea...  \n",
       "24256  Quantitative Analyst for Counterparty Risk Tea...  \n",
       "24270  Quantitative Analyst for Counterparty Risk Tea...  \n",
       "24285  Quantitative Analyst for Counterparty Risk Tea...  \n",
       "24300  Quantitative Analyst for Counterparty Risk Tea...  \n",
       "24315  Quantitative Analyst for Counterparty Risk Tea...  \n",
       "24330  Quantitative Analyst for Counterparty Risk Tea...  \n",
       "...                                                  ...  \n",
       "56227                                Research Technician  \n",
       "56237                                Research Technician  \n",
       "56247                                Research Technician  \n",
       "56255                                Research Technician  \n",
       "56265                                Research Technician  \n",
       "56275                                Research Technician  \n",
       "56285                                Research Technician  \n",
       "56297                                Research Technician  \n",
       "56307                                Research Technician  \n",
       "56315                                Research Technician  \n",
       "56325                                Research Technician  \n",
       "56335                                Research Technician  \n",
       "56347                                Research Technician  \n",
       "56355                                Research Technician  \n",
       "56365                                Research Technician  \n",
       "56375                                Research Technician  \n",
       "56387                                Research Technician  \n",
       "56397                                Research Technician  \n",
       "56405                                Research Technician  \n",
       "56417                                Research Technician  \n",
       "56425                                Research Technician  \n",
       "56435                                Research Technician  \n",
       "56447                                Research Technician  \n",
       "56457                                Research Technician  \n",
       "56465                                Research Technician  \n",
       "56477                                Research Technician  \n",
       "56487                                Research Technician  \n",
       "56495                                Research Technician  \n",
       "56505                                Research Technician  \n",
       "56515                                Research Technician  \n",
       "\n",
       "[756 rows x 5 columns]"
      ]
     },
     "execution_count": 10,
     "metadata": {},
     "output_type": "execute_result"
    }
   ],
   "source": [
    "listings.loc[listings.duplicated(keep=False), :]"
   ]
  },
  {
   "cell_type": "code",
   "execution_count": 11,
   "metadata": {
    "collapsed": false
   },
   "outputs": [],
   "source": [
    "listings.drop_duplicates(inplace=True)"
   ]
  },
  {
   "cell_type": "code",
   "execution_count": 12,
   "metadata": {
    "collapsed": false
   },
   "outputs": [],
   "source": [
    "# This will speed up iterating through my dataframe. Necessary for the \"for i, e in enumerate()\" tactic (below).\n",
    "listings.reset_index(drop=True, inplace=True)"
   ]
  },
  {
   "cell_type": "markdown",
   "metadata": {
    "focus": false,
    "id": "ff98ce64-78a7-441f-a675-63464e32c834"
   },
   "source": [
    "Lastly, we need to clean up salary data. \n",
    "\n",
    "1. Only a small number of the scraped results have salary information - only these will be used for modeling.\n",
    "1. Some of the salaries are not yearly but hourly or weekly, these will not be useful to us for now\n",
    "1. Some of the entries may be duplicated\n",
    "1. The salaries are given as text and usually with ranges.\n",
    "\n",
    "#### Find the entries with annual salary entries, by filtering the entries without salaries or salaries that are not yearly (filter those that refer to hour or week). Also, remove duplicate entries"
   ]
  },
  {
   "cell_type": "code",
   "execution_count": 13,
   "metadata": {
    "collapsed": false
   },
   "outputs": [],
   "source": [
    "# Getting rid of commas and $s in the salaries column.\n",
    "listings.salaries = listings.salaries.apply(lambda x: x.replace(',',''))"
   ]
  },
  {
   "cell_type": "code",
   "execution_count": 14,
   "metadata": {
    "collapsed": false
   },
   "outputs": [],
   "source": [
    "listings.salaries = listings.salaries.apply(lambda x: x.replace('$',''))"
   ]
  },
  {
   "cell_type": "code",
   "execution_count": 15,
   "metadata": {
    "collapsed": true
   },
   "outputs": [],
   "source": [
    "import re"
   ]
  },
  {
   "cell_type": "code",
   "execution_count": 16,
   "metadata": {
    "collapsed": false
   },
   "outputs": [],
   "source": [
    "# Creating a list separate from my dataframe only to insert it into my dataframe may be an unnecessary step,\n",
    "# (instead of making a list, why not make a new column -- or better, overwrite the source column?), but it's \n",
    "# easy enough and I know how to do it.\n",
    "salaries = []\n",
    "for salary in listings.salaries:\n",
    "    salaries.append(re.findall(r'\\d+', salary))"
   ]
  },
  {
   "cell_type": "code",
   "execution_count": 17,
   "metadata": {
    "collapsed": true
   },
   "outputs": [],
   "source": [
    "listings['salary'] = salaries"
   ]
  },
  {
   "cell_type": "code",
   "execution_count": 18,
   "metadata": {
    "collapsed": false
   },
   "outputs": [
    {
     "name": "stdout",
     "output_type": "stream",
     "text": [
      "<type 'str'>\n",
      "<type 'str'>\n",
      "<type 'str'>\n",
      "<type 'str'>\n",
      "<type 'str'>\n",
      "<type 'str'>\n",
      "<type 'str'>\n",
      "<type 'str'>\n",
      "<type 'str'>\n",
      "<type 'str'>\n",
      "<type 'str'>\n",
      "<type 'str'>\n",
      "<type 'str'>\n",
      "<type 'str'>\n",
      "<type 'str'>\n",
      "<type 'str'>\n",
      "<type 'str'>\n",
      "<type 'str'>\n",
      "<type 'str'>\n",
      "<type 'str'>\n",
      "<type 'str'>\n",
      "<type 'str'>\n",
      "<type 'str'>\n",
      "<type 'str'>\n",
      "<type 'str'>\n",
      "<type 'str'>\n",
      "<type 'str'>\n",
      "<type 'str'>\n",
      "<type 'str'>\n",
      "<type 'str'>\n",
      "<type 'str'>\n",
      "<type 'str'>\n",
      "<type 'str'>\n",
      "<type 'str'>\n",
      "<type 'str'>\n",
      "<type 'str'>\n",
      "<type 'str'>\n",
      "<type 'str'>\n",
      "<type 'str'>\n",
      "<type 'str'>\n",
      "<type 'str'>\n",
      "<type 'str'>\n",
      "<type 'str'>\n",
      "<type 'str'>\n",
      "<type 'str'>\n",
      "<type 'str'>\n",
      "<type 'str'>\n",
      "<type 'str'>\n",
      "<type 'str'>\n",
      "<type 'str'>\n",
      "<type 'str'>\n",
      "<type 'str'>\n",
      "<type 'str'>\n",
      "<type 'str'>\n",
      "<type 'str'>\n",
      "<type 'str'>\n",
      "<type 'str'>\n",
      "<type 'str'>\n",
      "<type 'str'>\n",
      "<type 'str'>\n",
      "<type 'str'>\n",
      "<type 'str'>\n",
      "<type 'str'>\n",
      "<type 'str'>\n",
      "<type 'str'>\n",
      "<type 'str'>\n",
      "<type 'str'>\n",
      "<type 'str'>\n",
      "<type 'str'>\n",
      "<type 'str'>\n",
      "<type 'str'>\n",
      "<type 'str'>\n",
      "<type 'str'>\n",
      "<type 'str'>\n",
      "<type 'str'>\n",
      "<type 'str'>\n",
      "<type 'str'>\n",
      "<type 'str'>\n",
      "<type 'str'>\n",
      "<type 'str'>\n",
      "<type 'str'>\n",
      "<type 'str'>\n",
      "<type 'str'>\n",
      "<type 'str'>\n",
      "<type 'str'>\n",
      "<type 'str'>\n",
      "<type 'str'>\n",
      "<type 'str'>\n",
      "<type 'str'>\n",
      "<type 'str'>\n",
      "<type 'str'>\n",
      "<type 'str'>\n",
      "<type 'str'>\n",
      "<type 'str'>\n",
      "<type 'str'>\n",
      "<type 'str'>\n",
      "<type 'str'>\n",
      "<type 'str'>\n",
      "<type 'str'>\n",
      "<type 'str'>\n",
      "<type 'str'>\n",
      "<type 'str'>\n",
      "<type 'str'>\n",
      "<type 'str'>\n",
      "<type 'str'>\n",
      "<type 'str'>\n",
      "<type 'str'>\n",
      "<type 'str'>\n",
      "<type 'str'>\n",
      "<type 'str'>\n",
      "<type 'str'>\n",
      "<type 'str'>\n",
      "<type 'str'>\n",
      "<type 'str'>\n",
      "<type 'str'>\n",
      "<type 'str'>\n",
      "<type 'str'>\n",
      "<type 'str'>\n",
      "<type 'str'>\n",
      "<type 'str'>\n",
      "<type 'str'>\n",
      "<type 'str'>\n",
      "<type 'str'>\n",
      "<type 'str'>\n",
      "<type 'str'>\n",
      "<type 'str'>\n",
      "<type 'str'>\n",
      "<type 'str'>\n",
      "<type 'str'>\n",
      "<type 'str'>\n",
      "<type 'str'>\n",
      "<type 'str'>\n",
      "<type 'str'>\n",
      "<type 'str'>\n",
      "<type 'str'>\n",
      "<type 'str'>\n",
      "<type 'str'>\n",
      "<type 'str'>\n",
      "<type 'str'>\n",
      "<type 'str'>\n",
      "<type 'str'>\n",
      "<type 'str'>\n",
      "<type 'str'>\n",
      "<type 'str'>\n",
      "<type 'str'>\n",
      "<type 'str'>\n",
      "<type 'str'>\n",
      "<type 'str'>\n",
      "<type 'str'>\n",
      "<type 'str'>\n",
      "<type 'str'>\n",
      "<type 'str'>\n",
      "<type 'str'>\n",
      "<type 'str'>\n",
      "<type 'str'>\n",
      "<type 'str'>\n",
      "<type 'str'>\n",
      "<type 'str'>\n",
      "<type 'str'>\n",
      "<type 'str'>\n",
      "<type 'str'>\n",
      "<type 'str'>\n",
      "<type 'str'>\n",
      "<type 'str'>\n",
      "<type 'str'>\n",
      "<type 'str'>\n",
      "<type 'str'>\n",
      "<type 'str'>\n",
      "<type 'str'>\n",
      "<type 'str'>\n",
      "<type 'str'>\n",
      "<type 'str'>\n",
      "<type 'str'>\n",
      "<type 'str'>\n",
      "<type 'str'>\n",
      "<type 'str'>\n",
      "<type 'str'>\n",
      "<type 'str'>\n",
      "<type 'str'>\n",
      "<type 'str'>\n",
      "<type 'str'>\n",
      "<type 'str'>\n",
      "<type 'str'>\n",
      "<type 'str'>\n",
      "<type 'str'>\n",
      "<type 'str'>\n",
      "<type 'str'>\n",
      "<type 'str'>\n",
      "<type 'str'>\n",
      "<type 'str'>\n",
      "<type 'str'>\n",
      "<type 'str'>\n",
      "<type 'str'>\n",
      "<type 'str'>\n",
      "<type 'str'>\n",
      "<type 'str'>\n",
      "<type 'str'>\n",
      "<type 'str'>\n",
      "<type 'str'>\n",
      "<type 'str'>\n",
      "<type 'str'>\n",
      "<type 'str'>\n",
      "<type 'str'>\n",
      "<type 'str'>\n",
      "<type 'str'>\n",
      "<type 'str'>\n",
      "<type 'str'>\n",
      "<type 'str'>\n",
      "<type 'str'>\n",
      "<type 'str'>\n",
      "<type 'str'>\n",
      "<type 'str'>\n"
     ]
    }
   ],
   "source": [
    "# Checking data type of entries in 'salary' column. If I don't include the inside for loop, the type of each \n",
    "# cell would be 'list.' \n",
    "for i, e in enumerate(listings.salary):\n",
    "    for a, b in enumerate(listings.salary[i]):\n",
    "        print type(listings.salary[i][a])"
   ]
  },
  {
   "cell_type": "code",
   "execution_count": 19,
   "metadata": {
    "collapsed": false
   },
   "outputs": [],
   "source": [
    "# To calculate median salary, I'll need to convert \"str\" to \"int.\"\n",
    "for i,e in enumerate(listings.salary):\n",
    "    for a,b in enumerate(listings.salary[i]):\n",
    "        listings.salary[i][a] = int(b)"
   ]
  },
  {
   "cell_type": "code",
   "execution_count": 20,
   "metadata": {
    "collapsed": false
   },
   "outputs": [],
   "source": [
    "# Every value, whether a pair of values or a single value, is within a list. But by performing an operation on the \n",
    "# values inside the list a single (non-list) value is returned. \n",
    "for i,e in enumerate(listings.salary):\n",
    "    if len(e) > 1:\n",
    "        listings.salary[i] = sum(e)/2.\n",
    "    else:\n",
    "        listings.salary[i] = sum(e)"
   ]
  },
  {
   "cell_type": "code",
   "execution_count": null,
   "metadata": {
    "collapsed": false
   },
   "outputs": [],
   "source": [
    "listings.head()"
   ]
  },
  {
   "cell_type": "code",
   "execution_count": 21,
   "metadata": {
    "collapsed": false
   },
   "outputs": [],
   "source": [
    "# 'salaries', which is provides the text from which 'salary' was derived, won't be used in modeling and can be dropped.\n",
    "listings.drop('salaries', axis=1, inplace=True)"
   ]
  },
  {
   "cell_type": "code",
   "execution_count": 22,
   "metadata": {
    "collapsed": false
   },
   "outputs": [],
   "source": [
    "# Since the format is \"City, STATE\", this returns city. \n",
    "listings['city'] = listings.locations.apply(lambda x: x.split(',')[0])"
   ]
  },
  {
   "cell_type": "code",
   "execution_count": null,
   "metadata": {
    "collapsed": false
   },
   "outputs": [],
   "source": [
    "listings.head()"
   ]
  },
  {
   "cell_type": "markdown",
   "metadata": {
    "focus": false,
    "id": "c7631f51-07f2-4c79-a093-3e9bc7849a48"
   },
   "source": [
    "#### We want to predict a binary variable - whether the salary was low or high. Compute the median salary and create a new binary variable that is true when the salary is high (above the median)\n",
    "\n",
    "We could also perform Linear Regression (or any regression) to predict the salary value here. Instead, we are going to convert this into a _binary_ classification problem, by predicting two classes, HIGH vs LOW salary.\n",
    "\n",
    "While performing regression may be better, performing classification may help remove some of the noise of the extreme salaries. We don't have to choice the `median` as the splitting point - we could also split on the 75th percentile or any other reasonable breaking point.\n",
    "\n",
    "In fact, the ideal scenario may be to predict many levels of salaries, "
   ]
  },
  {
   "cell_type": "code",
   "execution_count": 23,
   "metadata": {
    "collapsed": false
   },
   "outputs": [],
   "source": [
    "# Set a default value for whether or not a given job's salary is above the median.\n",
    "listings['above_median'] = 0"
   ]
  },
  {
   "cell_type": "code",
   "execution_count": 24,
   "metadata": {
    "collapsed": false
   },
   "outputs": [
    {
     "name": "stderr",
     "output_type": "stream",
     "text": [
      "/Users/Nick/anaconda/lib/python2.7/site-packages/ipykernel/__main__.py:5: SettingWithCopyWarning: \n",
      "A value is trying to be set on a copy of a slice from a DataFrame\n",
      "\n",
      "See the caveats in the documentation: http://pandas.pydata.org/pandas-docs/stable/indexing.html#indexing-view-versus-copy\n",
      "/Users/Nick/anaconda/lib/python2.7/site-packages/ipykernel/__main__.py:3: SettingWithCopyWarning: \n",
      "A value is trying to be set on a copy of a slice from a DataFrame\n",
      "\n",
      "See the caveats in the documentation: http://pandas.pydata.org/pandas-docs/stable/indexing.html#indexing-view-versus-copy\n",
      "  app.launch_new_instance()\n"
     ]
    }
   ],
   "source": [
    "for i, e in enumerate(listings.above_median):\n",
    "    if listings.salary[i] > listings.salary.median():\n",
    "        listings.above_median[i] = 1\n",
    "    else:\n",
    "        listings.above_median[i] = 0"
   ]
  },
  {
   "cell_type": "code",
   "execution_count": 26,
   "metadata": {
    "collapsed": false
   },
   "outputs": [
    {
     "data": {
      "text/plain": [
       "0    62\n",
       "1    61\n",
       "Name: above_median, dtype: int64"
      ]
     },
     "execution_count": 26,
     "metadata": {},
     "output_type": "execute_result"
    }
   ],
   "source": [
    "listings.above_median.value_counts()"
   ]
  },
  {
   "cell_type": "markdown",
   "metadata": {
    "focus": false,
    "id": "04563b69-f7b6-466f-9d65-fc62c9ddee6a"
   },
   "source": [
    "## Predicting salaries using Random Forests + Another Classifier"
   ]
  },
  {
   "cell_type": "markdown",
   "metadata": {},
   "source": [
    "## Random Forest - Get Dummies"
   ]
  },
  {
   "cell_type": "code",
   "execution_count": 51,
   "metadata": {
    "collapsed": false,
    "focus": false,
    "id": "588f9845-6143-4bcc-bfd1-85d45b79303d"
   },
   "outputs": [],
   "source": [
    "from sklearn.ensemble import RandomForestClassifier\n",
    "from sklearn.cross_validation import cross_val_score, StratifiedKFold, KFold"
   ]
  },
  {
   "cell_type": "code",
   "execution_count": 40,
   "metadata": {
    "collapsed": true
   },
   "outputs": [],
   "source": [
    "X = listings.city\n",
    "y = listings.above_median"
   ]
  },
  {
   "cell_type": "code",
   "execution_count": 45,
   "metadata": {
    "collapsed": false
   },
   "outputs": [
    {
     "data": {
      "text/plain": [
       "New York      39\n",
       "Atlanta        9\n",
       "Washington     9\n",
       "Chicago        8\n",
       "Newark         6\n",
       "Name: city, dtype: int64"
      ]
     },
     "execution_count": 45,
     "metadata": {},
     "output_type": "execute_result"
    }
   ],
   "source": [
    "X.value_counts(ascending=False).head()"
   ]
  },
  {
   "cell_type": "code",
   "execution_count": 46,
   "metadata": {
    "collapsed": false
   },
   "outputs": [],
   "source": [
    "X = pd.get_dummies(X)\n",
    "X.drop('New York', axis=1, inplace=True)"
   ]
  },
  {
   "cell_type": "code",
   "execution_count": 63,
   "metadata": {
    "collapsed": false
   },
   "outputs": [
    {
     "data": {
      "text/plain": [
       "0.61788617886178865"
      ]
     },
     "execution_count": 63,
     "metadata": {},
     "output_type": "execute_result"
    }
   ],
   "source": [
    "cv = KFold(len(y), n_folds=3, shuffle=True, random_state=41)\n",
    "rfc = RandomForestClassifier()\n",
    "cross_val_score(rfc, X, y, cv = cv).mean()"
   ]
  },
  {
   "cell_type": "code",
   "execution_count": 64,
   "metadata": {
    "collapsed": true
   },
   "outputs": [],
   "source": [
    "from sklearn.grid_search import GridSearchCV\n",
    "\n",
    "param_grid = {'n_estimators':[8,10,12,20],\n",
    "              'criterion': ['gini', 'entropy'],\n",
    "              'max_features':['sqrt', 'log2', None],\n",
    "              'min_samples_split':[2,4,6,8],\n",
    "              'min_samples_leaf': [1,2,3,4]}\n",
    "\n",
    "gs = GridSearchCV(rfc, param_grid, cv=cv)"
   ]
  },
  {
   "cell_type": "code",
   "execution_count": 65,
   "metadata": {
    "collapsed": false
   },
   "outputs": [
    {
     "data": {
      "text/plain": [
       "GridSearchCV(cv=sklearn.cross_validation.KFold(n=123, n_folds=3, shuffle=True, random_state=41),\n",
       "       error_score='raise',\n",
       "       estimator=RandomForestClassifier(bootstrap=True, class_weight=None, criterion='gini',\n",
       "            max_depth=None, max_features='auto', max_leaf_nodes=None,\n",
       "            min_samples_leaf=1, min_samples_split=2,\n",
       "            min_weight_fraction_leaf=0.0, n_estimators=10, n_jobs=1,\n",
       "            oob_score=False, random_state=None, verbose=0,\n",
       "            warm_start=False),\n",
       "       fit_params={}, iid=True, n_jobs=1,\n",
       "       param_grid={'n_estimators': [8, 10, 12, 20], 'max_features': ['sqrt', 'log2', None], 'min_samples_split': [2, 4, 6, 8], 'criterion': ['gini', 'entropy'], 'min_samples_leaf': [1, 2, 3, 4]},\n",
       "       pre_dispatch='2*n_jobs', refit=True, scoring=None, verbose=0)"
      ]
     },
     "execution_count": 65,
     "metadata": {},
     "output_type": "execute_result"
    }
   ],
   "source": [
    "gs.fit(X, y)"
   ]
  },
  {
   "cell_type": "code",
   "execution_count": 66,
   "metadata": {
    "collapsed": false
   },
   "outputs": [
    {
     "name": "stdout",
     "output_type": "stream",
     "text": [
      "0.642276422764\n",
      "{'max_features': 'sqrt', 'min_samples_split': 6, 'n_estimators': 20, 'criterion': 'gini', 'min_samples_leaf': 1}\n"
     ]
    }
   ],
   "source": [
    "print gs.best_score_\n",
    "print gs.best_params_"
   ]
  },
  {
   "cell_type": "markdown",
   "metadata": {
    "collapsed": true
   },
   "source": [
    "## Random Forest - LabelEncoder"
   ]
  },
  {
   "cell_type": "code",
   "execution_count": 142,
   "metadata": {
    "collapsed": false
   },
   "outputs": [],
   "source": [
    "# I'm using labelencoder mainly so that I can plot. (Plotting not viable when city is split over 30+ variables.) \n",
    "# But it also makes a leaner dataframe, and since I'm using randomforest, it should have no (significant) impact \n",
    "# on outcome.\n",
    "X = listings.city\n",
    "y = listings.above_median\n",
    "\n",
    "from sklearn.preprocessing import LabelEncoder\n",
    "X = pd.DataFrame(LabelEncoder().fit_transform(X))"
   ]
  },
  {
   "cell_type": "code",
   "execution_count": 143,
   "metadata": {
    "collapsed": false
   },
   "outputs": [
    {
     "data": {
      "text/plain": [
       "<matplotlib.collections.PathCollection at 0x11c37fe10>"
      ]
     },
     "execution_count": 143,
     "metadata": {},
     "output_type": "execute_result"
    },
    {
     "data": {
      "image/png": "[encoded data removed]",
      "text/plain": [
       "<matplotlib.figure.Figure at 0x11c2fea90>"
      ]
     },
     "metadata": {},
     "output_type": "display_data"
    }
   ],
   "source": [
    "import matplotlib.pyplot as plt\n",
    "%matplotlib inline\n",
    "plt.scatter(X, listings.salary, c=y)"
   ]
  },
  {
   "cell_type": "code",
   "execution_count": 144,
   "metadata": {
    "collapsed": false
   },
   "outputs": [
    {
     "data": {
      "text/plain": [
       "0.57723577235772361"
      ]
     },
     "execution_count": 144,
     "metadata": {},
     "output_type": "execute_result"
    }
   ],
   "source": [
    "cv = KFold(len(y), n_folds=3, shuffle=True, random_state=41)\n",
    "rfc = RandomForestClassifier()\n",
    "cross_val_score(rfc, X, y, cv = cv).mean()"
   ]
  },
  {
   "cell_type": "code",
   "execution_count": 145,
   "metadata": {
    "collapsed": true
   },
   "outputs": [],
   "source": [
    "param_grid = {'n_estimators':[8,10,12,20],\n",
    "              'criterion': ['gini', 'entropy'],\n",
    "              'max_features':['sqrt', 'log2', None],\n",
    "              'min_samples_split':[2,4,6,8],\n",
    "              'min_samples_leaf': [1,2,3,4]}\n",
    "\n",
    "gs = GridSearchCV(rfc, param_grid, cv=cv)"
   ]
  },
  {
   "cell_type": "code",
   "execution_count": 146,
   "metadata": {
    "collapsed": false
   },
   "outputs": [
    {
     "data": {
      "text/plain": [
       "GridSearchCV(cv=sklearn.cross_validation.KFold(n=123, n_folds=3, shuffle=True, random_state=41),\n",
       "       error_score='raise',\n",
       "       estimator=RandomForestClassifier(bootstrap=True, class_weight=None, criterion='gini',\n",
       "            max_depth=None, max_features='auto', max_leaf_nodes=None,\n",
       "            min_samples_leaf=1, min_samples_split=2,\n",
       "            min_weight_fraction_leaf=0.0, n_estimators=10, n_jobs=1,\n",
       "            oob_score=False, random_state=None, verbose=0,\n",
       "            warm_start=False),\n",
       "       fit_params={}, iid=True, n_jobs=1,\n",
       "       param_grid={'n_estimators': [8, 10, 12, 20], 'max_features': ['sqrt', 'log2', None], 'min_samples_split': [2, 4, 6, 8], 'criterion': ['gini', 'entropy'], 'min_samples_leaf': [1, 2, 3, 4]},\n",
       "       pre_dispatch='2*n_jobs', refit=True, scoring=None, verbose=0)"
      ]
     },
     "execution_count": 146,
     "metadata": {},
     "output_type": "execute_result"
    }
   ],
   "source": [
    "gs.fit(X, y)"
   ]
  },
  {
   "cell_type": "code",
   "execution_count": 147,
   "metadata": {
    "collapsed": false
   },
   "outputs": [
    {
     "name": "stdout",
     "output_type": "stream",
     "text": [
      "0.650406504065\n",
      "{'max_features': None, 'min_samples_split': 4, 'n_estimators': 8, 'criterion': 'gini', 'min_samples_leaf': 2}\n"
     ]
    }
   ],
   "source": [
    "print gs.best_score_\n",
    "print gs.best_params_"
   ]
  },
  {
   "cell_type": "markdown",
   "metadata": {},
   "source": [
    "## Logistic Regression"
   ]
  },
  {
   "cell_type": "code",
   "execution_count": null,
   "metadata": {
    "collapsed": true
   },
   "outputs": [],
   "source": [
    "# I have too many classes, with too few observations, to run a logistic regression. That's okay. It would've \n",
    "# been a pretty hokey solution anyway."
   ]
  },
  {
   "cell_type": "markdown",
   "metadata": {
    "focus": false,
    "id": "0ef04f32-419c-4bf2-baf7-48201f03df89"
   },
   "source": [
    "#### Create a few new variables in your dataframe to represent interesting features of a job title.\n",
    "- For example, create a feature that represents whether 'Senior' is in the title \n",
    "- or whether 'Manager' is in the title. \n",
    "- Then build a new Random Forest with these features. Do they add any value? \n"
   ]
  },
  {
   "cell_type": "code",
   "execution_count": 67,
   "metadata": {
    "collapsed": false
   },
   "outputs": [
    {
     "data": {
      "text/plain": [
       "0                     Bioinformatics Postdoctoral Fellow\n",
       "1                                         Data Architect\n",
       "2                                 Data Services Engineer\n",
       "3                          Web Security Research Analyst\n",
       "4                                         Data Scientist\n",
       "5                                         Data Scientist\n",
       "6                                     Software Scientist\n",
       "7                        Data Scientist- Python/Big Data\n",
       "8                                       Research Analyst\n",
       "9      Market Research Analyst - (Quantitative Resear...\n",
       "10                              Mid-Level Data Scientist\n",
       "11                 Lead Data Scientist (Graph Analytics)\n",
       "12                    Save lives via experimental design\n",
       "13                     Data Scientist (Machine Learning)\n",
       "14          Data Scientist / Bioinformatics (co-founder)\n",
       "15            Systemwide Library Research Analyst (7399)\n",
       "16                                        Data Scientist\n",
       "17          Data Scientist (Natural Language Processing)\n",
       "18                    Lead Data Scientist -- IoT/Biotech\n",
       "19                                 Junior Data Scientist\n",
       "20     Senior Data Scientist - Security Experience is...\n",
       "21                                   Lead Data Scientist\n",
       "22     Lecturer - Statistics - Department of Statisti...\n",
       "23                                          iOS Engineer\n",
       "24                     iOS Engineer - Learning Assistant\n",
       "25                              Principal Data Scientist\n",
       "26         Data Scientist - Text Analytics - SQL, R, SAS\n",
       "27                                     climate scientist\n",
       "28                         Data Scientist ($90k - $100k)\n",
       "29     Lead Data Scientist for Global Digital Media C...\n",
       "                             ...                        \n",
       "93            Supervisory Health Scientist (Informatics)\n",
       "94                                  Certifying Scientist\n",
       "95                       Market Research & Sales Analyst\n",
       "96                          Data Scientist - Engineering\n",
       "97     Research & Development Scientist, Immunology (...\n",
       "98                             LCMS Certifying Scientist\n",
       "99                               Postdoctoral Researcher\n",
       "100                                Senior Data Scientist\n",
       "101                                       Data Scientist\n",
       "102                              Data Scientist (TS/SCI)\n",
       "103                                       Data Scientist\n",
       "104                                    STATISTICIAN HLTH\n",
       "105                             Supervisory Statistician\n",
       "106                Economist or Statistician (Economics)\n",
       "107                                       Data Scientist\n",
       "108                                         Statistician\n",
       "109    Director, Statistics - Clinical Trial Design S...\n",
       "110                          Operations Research Analyst\n",
       "111                    Data Scientist (Machine Learning)\n",
       "112    Research Assistant/Analyst, Africa Growth Init...\n",
       "113                  Business Analyst - Research Billing\n",
       "114                               Applications Developer\n",
       "115                         Data Scientist - Experienced\n",
       "116                                       Data Scientist\n",
       "117      Earned Value Management & Cost Research Analyst\n",
       "118                           Mathematical Statisticians\n",
       "119                         Data Scientist - Experienced\n",
       "120                                  Open Source Officer\n",
       "121    Entry Level Systems Engineer with Security Cle...\n",
       "122                         Data Scientist - Experienced\n",
       "Name: titles, dtype: object"
      ]
     },
     "execution_count": 67,
     "metadata": {},
     "output_type": "execute_result"
    }
   ],
   "source": [
    "listings.titles"
   ]
  },
  {
   "cell_type": "code",
   "execution_count": 68,
   "metadata": {
    "collapsed": false
   },
   "outputs": [],
   "source": [
    "# Create two columns. One for jobs with senior keywords, the other for jobs with junior keywords. Set default to 0.\n",
    "listings['senior'] = 0\n",
    "listings['entry'] = 0"
   ]
  },
  {
   "cell_type": "code",
   "execution_count": 70,
   "metadata": {
    "collapsed": false,
    "scrolled": true
   },
   "outputs": [
    {
     "name": "stderr",
     "output_type": "stream",
     "text": [
      "/Users/Nick/anaconda/lib/python2.7/site-packages/ipykernel/__main__.py:11: SettingWithCopyWarning: \n",
      "A value is trying to be set on a copy of a slice from a DataFrame\n",
      "\n",
      "See the caveats in the documentation: http://pandas.pydata.org/pandas-docs/stable/indexing.html#indexing-view-versus-copy\n",
      "/Users/Nick/anaconda/lib/python2.7/site-packages/ipykernel/__main__.py:3: SettingWithCopyWarning: \n",
      "A value is trying to be set on a copy of a slice from a DataFrame\n",
      "\n",
      "See the caveats in the documentation: http://pandas.pydata.org/pandas-docs/stable/indexing.html#indexing-view-versus-copy\n",
      "  app.launch_new_instance()\n",
      "/Users/Nick/anaconda/lib/python2.7/site-packages/ipykernel/__main__.py:5: SettingWithCopyWarning: \n",
      "A value is trying to be set on a copy of a slice from a DataFrame\n",
      "\n",
      "See the caveats in the documentation: http://pandas.pydata.org/pandas-docs/stable/indexing.html#indexing-view-versus-copy\n",
      "/Users/Nick/anaconda/lib/python2.7/site-packages/ipykernel/__main__.py:7: SettingWithCopyWarning: \n",
      "A value is trying to be set on a copy of a slice from a DataFrame\n",
      "\n",
      "See the caveats in the documentation: http://pandas.pydata.org/pandas-docs/stable/indexing.html#indexing-view-versus-copy\n",
      "/Users/Nick/anaconda/lib/python2.7/site-packages/ipykernel/__main__.py:9: SettingWithCopyWarning: \n",
      "A value is trying to be set on a copy of a slice from a DataFrame\n",
      "\n",
      "See the caveats in the documentation: http://pandas.pydata.org/pandas-docs/stable/indexing.html#indexing-view-versus-copy\n"
     ]
    }
   ],
   "source": [
    "for i, e in enumerate(listings.senior):\n",
    "    if 'Lead' in listings.titles[i]:\n",
    "        listings.senior[i] = 1\n",
    "    elif 'Senior' in listings.titles[i]:\n",
    "        listings.senior[i] = 1\n",
    "    elif 'Manager' in listings.titles[i]:\n",
    "        listings.senior[i] = 1\n",
    "    elif 'Experienced' in listings.titles[i]:\n",
    "        listings.senior[i] = 1\n",
    "    else:\n",
    "        listings.senior[i] = 0"
   ]
  },
  {
   "cell_type": "code",
   "execution_count": 71,
   "metadata": {
    "collapsed": false,
    "scrolled": true
   },
   "outputs": [
    {
     "name": "stderr",
     "output_type": "stream",
     "text": [
      "/Users/Nick/anaconda/lib/python2.7/site-packages/ipykernel/__main__.py:7: SettingWithCopyWarning: \n",
      "A value is trying to be set on a copy of a slice from a DataFrame\n",
      "\n",
      "See the caveats in the documentation: http://pandas.pydata.org/pandas-docs/stable/indexing.html#indexing-view-versus-copy\n",
      "/Users/Nick/anaconda/lib/python2.7/site-packages/ipykernel/__main__.py:3: SettingWithCopyWarning: \n",
      "A value is trying to be set on a copy of a slice from a DataFrame\n",
      "\n",
      "See the caveats in the documentation: http://pandas.pydata.org/pandas-docs/stable/indexing.html#indexing-view-versus-copy\n",
      "  app.launch_new_instance()\n",
      "/Users/Nick/anaconda/lib/python2.7/site-packages/ipykernel/__main__.py:5: SettingWithCopyWarning: \n",
      "A value is trying to be set on a copy of a slice from a DataFrame\n",
      "\n",
      "See the caveats in the documentation: http://pandas.pydata.org/pandas-docs/stable/indexing.html#indexing-view-versus-copy\n"
     ]
    }
   ],
   "source": [
    "for i, e in enumerate(listings.entry):\n",
    "    if 'Junior' in listings.titles[i]:\n",
    "        listings.entry[i] = 1\n",
    "    elif 'Entry' in listings.titles[i]:\n",
    "        listings.entry[i] = 1\n",
    "    else:\n",
    "        listings.entry[i] = 0"
   ]
  },
  {
   "cell_type": "code",
   "execution_count": 73,
   "metadata": {
    "collapsed": false,
    "scrolled": true
   },
   "outputs": [
    {
     "name": "stdout",
     "output_type": "stream",
     "text": [
      "12\n",
      "4\n"
     ]
    }
   ],
   "source": [
    "# Not many job titles that could be obviously identified as junior or senior.\n",
    "print listings.senior.sum()\n",
    "print listings.entry.sum()"
   ]
  },
  {
   "cell_type": "code",
   "execution_count": 152,
   "metadata": {
    "collapsed": false
   },
   "outputs": [
    {
     "data": {
      "text/plain": [
       "<matplotlib.collections.PathCollection at 0x11d307710>"
      ]
     },
     "execution_count": 152,
     "metadata": {},
     "output_type": "execute_result"
    },
    {
     "data": {
      "image/png": "[encoded data removed]",
      "text/plain": [
       "<matplotlib.figure.Figure at 0x11d275750>"
      ]
     },
     "metadata": {},
     "output_type": "display_data"
    }
   ],
   "source": [
    "plt.scatter(listings.senior, listings.salary, c=y)"
   ]
  },
  {
   "cell_type": "code",
   "execution_count": 153,
   "metadata": {
    "collapsed": false
   },
   "outputs": [
    {
     "data": {
      "text/plain": [
       "<matplotlib.collections.PathCollection at 0x11d530510>"
      ]
     },
     "execution_count": 153,
     "metadata": {},
     "output_type": "execute_result"
    },
    {
     "data": {
      "image/png": "[encoded data removed]",
      "text/plain": [
       "<matplotlib.figure.Figure at 0x11d31c550>"
      ]
     },
     "metadata": {},
     "output_type": "display_data"
    }
   ],
   "source": [
    "plt.scatter(listings.entry, listings.salary, c=y)"
   ]
  },
  {
   "cell_type": "code",
   "execution_count": 82,
   "metadata": {
    "collapsed": false
   },
   "outputs": [],
   "source": [
    "X = listings.city\n",
    "X = pd.get_dummies(X)\n",
    "X.drop('New York', axis=1, inplace=True)\n",
    "X['senior'] = listings.senior\n",
    "X['entry'] = listings.entry"
   ]
  },
  {
   "cell_type": "code",
   "execution_count": 83,
   "metadata": {
    "collapsed": false,
    "scrolled": true
   },
   "outputs": [
    {
     "data": {
      "text/html": [
       "<div>\n",
       "<table border=\"1\" class=\"dataframe\">\n",
       "  <thead>\n",
       "    <tr style=\"text-align: right;\">\n",
       "      <th></th>\n",
       "      <th>Annapolis Junction</th>\n",
       "      <th>Arlington</th>\n",
       "      <th>Atlanta</th>\n",
       "      <th>Austin</th>\n",
       "      <th>Bellevue</th>\n",
       "      <th>Berkeley</th>\n",
       "      <th>Brisbane</th>\n",
       "      <th>Brooklyn</th>\n",
       "      <th>Chantilly</th>\n",
       "      <th>Chicago</th>\n",
       "      <th>...</th>\n",
       "      <th>Portland</th>\n",
       "      <th>Redwood City</th>\n",
       "      <th>San Francisco</th>\n",
       "      <th>Santa Monica</th>\n",
       "      <th>Scottsdale</th>\n",
       "      <th>Seattle</th>\n",
       "      <th>Walnut Creek</th>\n",
       "      <th>Washington</th>\n",
       "      <th>senior</th>\n",
       "      <th>entry</th>\n",
       "    </tr>\n",
       "  </thead>\n",
       "  <tbody>\n",
       "    <tr>\n",
       "      <th>0</th>\n",
       "      <td>0.0</td>\n",
       "      <td>0.0</td>\n",
       "      <td>0.0</td>\n",
       "      <td>0.0</td>\n",
       "      <td>0.0</td>\n",
       "      <td>0.0</td>\n",
       "      <td>0.0</td>\n",
       "      <td>0.0</td>\n",
       "      <td>0.0</td>\n",
       "      <td>0.0</td>\n",
       "      <td>...</td>\n",
       "      <td>0.0</td>\n",
       "      <td>0.0</td>\n",
       "      <td>0.0</td>\n",
       "      <td>0.0</td>\n",
       "      <td>0.0</td>\n",
       "      <td>0.0</td>\n",
       "      <td>0.0</td>\n",
       "      <td>0.0</td>\n",
       "      <td>0</td>\n",
       "      <td>0</td>\n",
       "    </tr>\n",
       "    <tr>\n",
       "      <th>1</th>\n",
       "      <td>0.0</td>\n",
       "      <td>0.0</td>\n",
       "      <td>0.0</td>\n",
       "      <td>0.0</td>\n",
       "      <td>0.0</td>\n",
       "      <td>0.0</td>\n",
       "      <td>0.0</td>\n",
       "      <td>0.0</td>\n",
       "      <td>0.0</td>\n",
       "      <td>0.0</td>\n",
       "      <td>...</td>\n",
       "      <td>0.0</td>\n",
       "      <td>0.0</td>\n",
       "      <td>0.0</td>\n",
       "      <td>0.0</td>\n",
       "      <td>0.0</td>\n",
       "      <td>0.0</td>\n",
       "      <td>0.0</td>\n",
       "      <td>0.0</td>\n",
       "      <td>0</td>\n",
       "      <td>0</td>\n",
       "    </tr>\n",
       "    <tr>\n",
       "      <th>2</th>\n",
       "      <td>0.0</td>\n",
       "      <td>0.0</td>\n",
       "      <td>0.0</td>\n",
       "      <td>0.0</td>\n",
       "      <td>0.0</td>\n",
       "      <td>0.0</td>\n",
       "      <td>0.0</td>\n",
       "      <td>0.0</td>\n",
       "      <td>0.0</td>\n",
       "      <td>0.0</td>\n",
       "      <td>...</td>\n",
       "      <td>0.0</td>\n",
       "      <td>0.0</td>\n",
       "      <td>0.0</td>\n",
       "      <td>0.0</td>\n",
       "      <td>0.0</td>\n",
       "      <td>0.0</td>\n",
       "      <td>0.0</td>\n",
       "      <td>0.0</td>\n",
       "      <td>0</td>\n",
       "      <td>0</td>\n",
       "    </tr>\n",
       "    <tr>\n",
       "      <th>3</th>\n",
       "      <td>0.0</td>\n",
       "      <td>0.0</td>\n",
       "      <td>0.0</td>\n",
       "      <td>0.0</td>\n",
       "      <td>0.0</td>\n",
       "      <td>0.0</td>\n",
       "      <td>0.0</td>\n",
       "      <td>0.0</td>\n",
       "      <td>0.0</td>\n",
       "      <td>0.0</td>\n",
       "      <td>...</td>\n",
       "      <td>0.0</td>\n",
       "      <td>0.0</td>\n",
       "      <td>0.0</td>\n",
       "      <td>0.0</td>\n",
       "      <td>1.0</td>\n",
       "      <td>0.0</td>\n",
       "      <td>0.0</td>\n",
       "      <td>0.0</td>\n",
       "      <td>0</td>\n",
       "      <td>0</td>\n",
       "    </tr>\n",
       "    <tr>\n",
       "      <th>4</th>\n",
       "      <td>0.0</td>\n",
       "      <td>0.0</td>\n",
       "      <td>0.0</td>\n",
       "      <td>0.0</td>\n",
       "      <td>0.0</td>\n",
       "      <td>0.0</td>\n",
       "      <td>0.0</td>\n",
       "      <td>0.0</td>\n",
       "      <td>0.0</td>\n",
       "      <td>1.0</td>\n",
       "      <td>...</td>\n",
       "      <td>0.0</td>\n",
       "      <td>0.0</td>\n",
       "      <td>0.0</td>\n",
       "      <td>0.0</td>\n",
       "      <td>0.0</td>\n",
       "      <td>0.0</td>\n",
       "      <td>0.0</td>\n",
       "      <td>0.0</td>\n",
       "      <td>0</td>\n",
       "      <td>0</td>\n",
       "    </tr>\n",
       "  </tbody>\n",
       "</table>\n",
       "<p>5 rows × 37 columns</p>\n",
       "</div>"
      ],
      "text/plain": [
       "   Annapolis Junction  Arlington  Atlanta  Austin  Bellevue  Berkeley  \\\n",
       "0                 0.0        0.0      0.0     0.0       0.0       0.0   \n",
       "1                 0.0        0.0      0.0     0.0       0.0       0.0   \n",
       "2                 0.0        0.0      0.0     0.0       0.0       0.0   \n",
       "3                 0.0        0.0      0.0     0.0       0.0       0.0   \n",
       "4                 0.0        0.0      0.0     0.0       0.0       0.0   \n",
       "\n",
       "   Brisbane  Brooklyn  Chantilly  Chicago  ...    Portland  Redwood City  \\\n",
       "0       0.0       0.0        0.0      0.0  ...         0.0           0.0   \n",
       "1       0.0       0.0        0.0      0.0  ...         0.0           0.0   \n",
       "2       0.0       0.0        0.0      0.0  ...         0.0           0.0   \n",
       "3       0.0       0.0        0.0      0.0  ...         0.0           0.0   \n",
       "4       0.0       0.0        0.0      1.0  ...         0.0           0.0   \n",
       "\n",
       "   San Francisco  Santa Monica  Scottsdale  Seattle  Walnut Creek  Washington  \\\n",
       "0            0.0           0.0         0.0      0.0           0.0         0.0   \n",
       "1            0.0           0.0         0.0      0.0           0.0         0.0   \n",
       "2            0.0           0.0         0.0      0.0           0.0         0.0   \n",
       "3            0.0           0.0         1.0      0.0           0.0         0.0   \n",
       "4            0.0           0.0         0.0      0.0           0.0         0.0   \n",
       "\n",
       "   senior  entry  \n",
       "0       0      0  \n",
       "1       0      0  \n",
       "2       0      0  \n",
       "3       0      0  \n",
       "4       0      0  \n",
       "\n",
       "[5 rows x 37 columns]"
      ]
     },
     "execution_count": 83,
     "metadata": {},
     "output_type": "execute_result"
    }
   ],
   "source": [
    "X.head()"
   ]
  },
  {
   "cell_type": "code",
   "execution_count": 99,
   "metadata": {
    "collapsed": false
   },
   "outputs": [
    {
     "data": {
      "text/plain": [
       "0.61869230769230765"
      ]
     },
     "execution_count": 99,
     "metadata": {},
     "output_type": "execute_result"
    }
   ],
   "source": [
    "cv = StratifiedKFold(y, n_folds=5, shuffle=True, random_state=41)\n",
    "rfc = RandomForestClassifier(n_estimators = 20)\n",
    "cross_val_score(rfc, X, y, cv = cv).mean()"
   ]
  },
  {
   "cell_type": "code",
   "execution_count": 90,
   "metadata": {
    "collapsed": false
   },
   "outputs": [
    {
     "data": {
      "text/plain": [
       "GridSearchCV(cv=sklearn.cross_validation.StratifiedKFold(labels=[0 1 ..., 0 1], n_folds=5, shuffle=True, random_state=41),\n",
       "       error_score='raise',\n",
       "       estimator=RandomForestClassifier(bootstrap=True, class_weight=None, criterion='gini',\n",
       "            max_depth=None, max_features='auto', max_leaf_nodes=None,\n",
       "            min_samples_leaf=1, min_samples_split=2,\n",
       "            min_weight_fraction_leaf=0.0, n_estimators=20, n_jobs=1,\n",
       "            oob_score=False, random_state=None, verbose=0,\n",
       "            warm_start=False),\n",
       "       fit_params={}, iid=True, n_jobs=1,\n",
       "       param_grid={'n_estimators': [8, 10, 12, 20], 'max_features': ['sqrt', 'log2', None], 'min_samples_split': [2, 4, 6, 8], 'criterion': ['gini', 'entropy'], 'min_samples_leaf': [1, 2, 3, 4]},\n",
       "       pre_dispatch='2*n_jobs', refit=True, scoring=None, verbose=0)"
      ]
     },
     "execution_count": 90,
     "metadata": {},
     "output_type": "execute_result"
    }
   ],
   "source": [
    "gs = GridSearchCV(rfc, param_grid, cv=cv)\n",
    "gs.fit(X, y)"
   ]
  },
  {
   "cell_type": "code",
   "execution_count": 91,
   "metadata": {
    "collapsed": false
   },
   "outputs": [
    {
     "name": "stdout",
     "output_type": "stream",
     "text": [
      "0.658536585366\n",
      "{'max_features': 'sqrt', 'min_samples_split': 6, 'n_estimators': 12, 'criterion': 'gini', 'min_samples_leaf': 1}\n"
     ]
    }
   ],
   "source": [
    "print gs.best_score_\n",
    "print gs.best_params_"
   ]
  },
  {
   "cell_type": "markdown",
   "metadata": {},
   "source": [
    "# Support Vector Machines"
   ]
  },
  {
   "cell_type": "code",
   "execution_count": 251,
   "metadata": {
    "collapsed": true
   },
   "outputs": [],
   "source": [
    "from sklearn import svm"
   ]
  },
  {
   "cell_type": "code",
   "execution_count": 255,
   "metadata": {
    "collapsed": false
   },
   "outputs": [
    {
     "data": {
      "text/html": [
       "<div>\n",
       "<table border=\"1\" class=\"dataframe\">\n",
       "  <thead>\n",
       "    <tr style=\"text-align: right;\">\n",
       "      <th></th>\n",
       "      <th>Annapolis Junction</th>\n",
       "      <th>Arlington</th>\n",
       "      <th>Atlanta</th>\n",
       "      <th>Austin</th>\n",
       "      <th>Bellevue</th>\n",
       "      <th>Berkeley</th>\n",
       "      <th>Brisbane</th>\n",
       "      <th>Brooklyn</th>\n",
       "      <th>Chantilly</th>\n",
       "      <th>Chicago</th>\n",
       "      <th>...</th>\n",
       "      <th>Portland</th>\n",
       "      <th>Redwood City</th>\n",
       "      <th>San Francisco</th>\n",
       "      <th>Santa Monica</th>\n",
       "      <th>Scottsdale</th>\n",
       "      <th>Seattle</th>\n",
       "      <th>Walnut Creek</th>\n",
       "      <th>Washington</th>\n",
       "      <th>senior</th>\n",
       "      <th>entry</th>\n",
       "    </tr>\n",
       "  </thead>\n",
       "  <tbody>\n",
       "    <tr>\n",
       "      <th>0</th>\n",
       "      <td>0.0</td>\n",
       "      <td>0.0</td>\n",
       "      <td>0.0</td>\n",
       "      <td>0.0</td>\n",
       "      <td>0.0</td>\n",
       "      <td>0.0</td>\n",
       "      <td>0.0</td>\n",
       "      <td>0.0</td>\n",
       "      <td>0.0</td>\n",
       "      <td>0.0</td>\n",
       "      <td>...</td>\n",
       "      <td>0.0</td>\n",
       "      <td>0.0</td>\n",
       "      <td>0.0</td>\n",
       "      <td>0.0</td>\n",
       "      <td>0.0</td>\n",
       "      <td>0.0</td>\n",
       "      <td>0.0</td>\n",
       "      <td>0.0</td>\n",
       "      <td>0</td>\n",
       "      <td>0</td>\n",
       "    </tr>\n",
       "    <tr>\n",
       "      <th>1</th>\n",
       "      <td>0.0</td>\n",
       "      <td>0.0</td>\n",
       "      <td>0.0</td>\n",
       "      <td>0.0</td>\n",
       "      <td>0.0</td>\n",
       "      <td>0.0</td>\n",
       "      <td>0.0</td>\n",
       "      <td>0.0</td>\n",
       "      <td>0.0</td>\n",
       "      <td>0.0</td>\n",
       "      <td>...</td>\n",
       "      <td>0.0</td>\n",
       "      <td>0.0</td>\n",
       "      <td>0.0</td>\n",
       "      <td>0.0</td>\n",
       "      <td>0.0</td>\n",
       "      <td>0.0</td>\n",
       "      <td>0.0</td>\n",
       "      <td>0.0</td>\n",
       "      <td>0</td>\n",
       "      <td>0</td>\n",
       "    </tr>\n",
       "    <tr>\n",
       "      <th>2</th>\n",
       "      <td>0.0</td>\n",
       "      <td>0.0</td>\n",
       "      <td>0.0</td>\n",
       "      <td>0.0</td>\n",
       "      <td>0.0</td>\n",
       "      <td>0.0</td>\n",
       "      <td>0.0</td>\n",
       "      <td>0.0</td>\n",
       "      <td>0.0</td>\n",
       "      <td>0.0</td>\n",
       "      <td>...</td>\n",
       "      <td>0.0</td>\n",
       "      <td>0.0</td>\n",
       "      <td>0.0</td>\n",
       "      <td>0.0</td>\n",
       "      <td>0.0</td>\n",
       "      <td>0.0</td>\n",
       "      <td>0.0</td>\n",
       "      <td>0.0</td>\n",
       "      <td>0</td>\n",
       "      <td>0</td>\n",
       "    </tr>\n",
       "    <tr>\n",
       "      <th>3</th>\n",
       "      <td>0.0</td>\n",
       "      <td>0.0</td>\n",
       "      <td>0.0</td>\n",
       "      <td>0.0</td>\n",
       "      <td>0.0</td>\n",
       "      <td>0.0</td>\n",
       "      <td>0.0</td>\n",
       "      <td>0.0</td>\n",
       "      <td>0.0</td>\n",
       "      <td>0.0</td>\n",
       "      <td>...</td>\n",
       "      <td>0.0</td>\n",
       "      <td>0.0</td>\n",
       "      <td>0.0</td>\n",
       "      <td>0.0</td>\n",
       "      <td>1.0</td>\n",
       "      <td>0.0</td>\n",
       "      <td>0.0</td>\n",
       "      <td>0.0</td>\n",
       "      <td>0</td>\n",
       "      <td>0</td>\n",
       "    </tr>\n",
       "    <tr>\n",
       "      <th>4</th>\n",
       "      <td>0.0</td>\n",
       "      <td>0.0</td>\n",
       "      <td>0.0</td>\n",
       "      <td>0.0</td>\n",
       "      <td>0.0</td>\n",
       "      <td>0.0</td>\n",
       "      <td>0.0</td>\n",
       "      <td>0.0</td>\n",
       "      <td>0.0</td>\n",
       "      <td>1.0</td>\n",
       "      <td>...</td>\n",
       "      <td>0.0</td>\n",
       "      <td>0.0</td>\n",
       "      <td>0.0</td>\n",
       "      <td>0.0</td>\n",
       "      <td>0.0</td>\n",
       "      <td>0.0</td>\n",
       "      <td>0.0</td>\n",
       "      <td>0.0</td>\n",
       "      <td>0</td>\n",
       "      <td>0</td>\n",
       "    </tr>\n",
       "  </tbody>\n",
       "</table>\n",
       "<p>5 rows × 37 columns</p>\n",
       "</div>"
      ],
      "text/plain": [
       "   Annapolis Junction  Arlington  Atlanta  Austin  Bellevue  Berkeley  \\\n",
       "0                 0.0        0.0      0.0     0.0       0.0       0.0   \n",
       "1                 0.0        0.0      0.0     0.0       0.0       0.0   \n",
       "2                 0.0        0.0      0.0     0.0       0.0       0.0   \n",
       "3                 0.0        0.0      0.0     0.0       0.0       0.0   \n",
       "4                 0.0        0.0      0.0     0.0       0.0       0.0   \n",
       "\n",
       "   Brisbane  Brooklyn  Chantilly  Chicago  ...    Portland  Redwood City  \\\n",
       "0       0.0       0.0        0.0      0.0  ...         0.0           0.0   \n",
       "1       0.0       0.0        0.0      0.0  ...         0.0           0.0   \n",
       "2       0.0       0.0        0.0      0.0  ...         0.0           0.0   \n",
       "3       0.0       0.0        0.0      0.0  ...         0.0           0.0   \n",
       "4       0.0       0.0        0.0      1.0  ...         0.0           0.0   \n",
       "\n",
       "   San Francisco  Santa Monica  Scottsdale  Seattle  Walnut Creek  Washington  \\\n",
       "0            0.0           0.0         0.0      0.0           0.0         0.0   \n",
       "1            0.0           0.0         0.0      0.0           0.0         0.0   \n",
       "2            0.0           0.0         0.0      0.0           0.0         0.0   \n",
       "3            0.0           0.0         1.0      0.0           0.0         0.0   \n",
       "4            0.0           0.0         0.0      0.0           0.0         0.0   \n",
       "\n",
       "   senior  entry  \n",
       "0       0      0  \n",
       "1       0      0  \n",
       "2       0      0  \n",
       "3       0      0  \n",
       "4       0      0  \n",
       "\n",
       "[5 rows x 37 columns]"
      ]
     },
     "execution_count": 255,
     "metadata": {},
     "output_type": "execute_result"
    }
   ],
   "source": [
    "X.head()"
   ]
  },
  {
   "cell_type": "code",
   "execution_count": 253,
   "metadata": {
    "collapsed": false
   },
   "outputs": [
    {
     "name": "stderr",
     "output_type": "stream",
     "text": [
      "/Users/Nick/anaconda/lib/python2.7/site-packages/sklearn/cross_validation.py:516: Warning: The least populated class in y has only 1 members, which is too few. The minimum number of labels for any class cannot be less than n_folds=3.\n",
      "  % (min_labels, self.n_folds)), Warning)\n"
     ]
    },
    {
     "data": {
      "text/plain": [
       "0.13247863247863248"
      ]
     },
     "execution_count": 253,
     "metadata": {},
     "output_type": "execute_result"
    }
   ],
   "source": [
    "# Laughably bad score!\n",
    "svc = svm.SVC(kernel = 'linear')\n",
    "cross_val_score(svc, X, y, scoring='accuracy').mean()"
   ]
  },
  {
   "cell_type": "code",
   "execution_count": 254,
   "metadata": {
    "collapsed": false
   },
   "outputs": [
    {
     "data": {
      "text/plain": [
       "0.07521367521367521"
      ]
     },
     "execution_count": 254,
     "metadata": {},
     "output_type": "execute_result"
    }
   ],
   "source": [
    "# Even worse!! While gridsearching would make things better, this isn't a route worth pursuing.\n",
    "# Measuring vectors in an entirely categorical space is misguided.\n",
    "svc = svm.SVC(kernel = 'rbf')\n",
    "cross_val_score(svc, X, y, scoring='accuracy').mean()"
   ]
  },
  {
   "cell_type": "markdown",
   "metadata": {},
   "source": [
    "## TF-IDF w/ Logistic Regression"
   ]
  },
  {
   "cell_type": "code",
   "execution_count": 211,
   "metadata": {
    "collapsed": false
   },
   "outputs": [],
   "source": [
    "X = listings.loc[:, ['titles', 'summaries']]\n",
    "y = listings.above_median"
   ]
  },
  {
   "cell_type": "code",
   "execution_count": 212,
   "metadata": {
    "collapsed": false
   },
   "outputs": [],
   "source": [
    "X['alltext'] = X.titles + X.summaries"
   ]
  },
  {
   "cell_type": "code",
   "execution_count": 213,
   "metadata": {
    "collapsed": false
   },
   "outputs": [],
   "source": [
    "X.drop(['titles', 'summaries'], axis=1, inplace=True)"
   ]
  },
  {
   "cell_type": "code",
   "execution_count": 226,
   "metadata": {
    "collapsed": false
   },
   "outputs": [
    {
     "data": {
      "text/plain": [
       "array([ 'Research Assistant/Analyst, Africa Growth InitiativeResearchesdatasources, updates and checks existing data; Experience handling, manipulating, and analyzing largedatasets....',\n",
       "       'Save lives via experimental designRequirements for alldatascientists. Expert in Python and core libraries used bydatascientists(Numpy, Scipy, Pandas, Scikit-learn, Matplotlib/Seaborn, etc.)...',\n",
       "       'Research Teaching Specialist VAssists interventions (educational and/or environmental), incident/injury surveillance and training evaluationdataentry and analysis....',\n",
       "       'Supervisory StatisticianDemonstrated ability to establish goals and objectives, develop and implement programs and activities to collect and analyzedatarelated to vital recordsdata...',\n",
       "       'Senior Data ScientistOrdatavisualization and interaction. The SeniorDataScientistin The Lab @ DC possesses expert skills in programming, statistics, and scientific...',\n",
       "       'Staff Assistant (Confidential)Executes assignments and tasks requiringdatacollection, information gathering, analysis,dataentry/retrieval,database maintenance, and forms and graphics...',\n",
       "       'Quantitative Analyst (Big Data Focus) at $10+ Billion Hedge...Source and build largedatasets to utilize your abilities to conduct statistical and mathematical analysis....',\n",
       "       'School Mental Health Evaluation Specialist, Bureau of Childr...Performdataentry and tracking. Outstanding quantitative anddataanalytic skills. Develop a plan for collectingdataand liaise with DOE research and...',\n",
       "       'Research AnalystWork with project staff in the promotion of the Responsibility to Protect norm. Be able to coordinate with other civil society groups associated with the',\n",
       "       'Quantitative Analyst - Matlab, Python, InvestmentAn integrative asset management and advising firm in the Western Suburbs of Philadelphia is looking to bring on a Quantitative Analyst fresh out of school and',\n",
       "       'Supervisory Health Scientist (Informatics)Supervisory HealthScientist(Informatics). Provide reviews of program and researchdatamanagement plans, disseminating guidelines and policy fordata...',\n",
       "       'Data Scientist at Video Software CompanyDatavisualization skills. Are you a talentedDataScientistthat wants a vital role in growing one the best video platforms on the market?...',\n",
       "       'Associate Research AnalystSkills with developing and presenting epidemiologic data; For more than six decades, the Council of State and Territorial Epidemiologists (CSTE) and the Centers...',\n",
       "       'Quantitative Analyst for Market Risk Team at Tier One Invest...A Tier One Investment Bank is seeking a Quantitative Analyst to be part of their Market Risk group. This team extremely high performing and the firm in',\n",
       "       'Earned Value Management & Cost Research AnalystUse scientific methods to collect and analyzedatausing mathematical/statistical methods. Review the nature and quality of costdatasources and evaluate their...',\n",
       "       'HUMAN RESOURCES ANALYST IV - Test ResearchAn in-person proctored written test measuring written expression,dataanalysis & decision-making/mathematics, and reading comprehension....',\n",
       "       'Software ScientistThis mid-sized start needs help building out their productdataplatform on the backend using Java. New role with a new company....',\n",
       "       'Web Security Research AnalystWhy SiteLock? When you join SiteLock, you are making a commitment to be a part of something cool. We take a \"work hard, play hard\" approach to serving our',\n",
       "       'iOS EngineerIn this position you will be a key member of the team, and interact with designers,datascientists, and NLP engineers every day....',\n",
       "       'Public Health Representative IIIThrough this community of healers,scientists, and scholars, Rutgers is equipped as never before to transform lives....',\n",
       "       'Modelers (Machine Learning)Potential projects include building classification and regression models for neural spikingdata, decoding of the spatio-temporal patterns of spikes with...',\n",
       "       'Supervisory Statistician (Health)Provide reviews of program and researchdatamanagement plans, disseminating guidelines and policy fordatamanagement standards....',\n",
       "       'Research TechnicianCell culture, RNA and DNA ,dataanalysis. Training in all relevant procedures will be conducted by experiencedscientistswithin the research group....',\n",
       "       'Data Services EngineerAct as the technical point of contact towardsdatascientistsand business analyst, regarding operational aspects of our CorporateDataPlatform....',\n",
       "       'Data ScientistWell we are looking for a skilleddatascientistto join our cutting edge engineering team! TheDataScientistwill be working on our largedatasets and will...',\n",
       "       'REVENUE ANALYST (STATISTICAL/ TIME SERIES ANALYSIS BACKGROUN...Dataanalysis which includes working with large pools ofdataand manipulating information to perform analysis for management....',\n",
       "       'Data Scientist - ExperiencedApplied statistics, calculus, quantitative or statistical methods and techniques,datamining, informatics,datascience, programming, computational algorithms,...',\n",
       "       \"Lead Data Scientist for Global Digital Media CompanyAre you a SeniorDataScientistlooking to lead and grow our company's newly formedDataScience team? As a Senior / LeadDataScientist, you will be leading...\",\n",
       "       'Data Scientist - Text Analytics - SQL, R, SASDataScientist- Text Analytics - SQL, R, SAS*. The ~600 person company has a relatively newDataAnalytics department, which has the responsibility of...',\n",
       "       'Junior Quantitative Analyst / Developer for $5B Hedge FundKnowledge bigdataanalysis and systems. Individual will work directly with Senior Analysts, Traders and report to trading head to leverage his/her bigdataand...',\n",
       "       'RESEARCH ANALYST II, BEHAVIORAL SCIENCESResearch and implement new models of care and comply with Centers for Medicare & Medicaid Services requirement for the grant DESIRABLE QUALIFICATIONS: Masters',\n",
       "       'C++/Python Algo Developer/Data ScientistPrevious knowledge ofdatastructures and standard algorithms. My client, a leading investment bank located in midtown Manhattan, is looking for a strong C++...',\n",
       "       'Health ScientistAnalyze scientific investigationdata. The Centers for Disease Control and Prevention (CDC) is the agency Americans trust with their lives....',\n",
       "       'Director, Statistics - Clinical Trial Design SpecialistAnalysis and interpretation of safetydata. Knowledge/research experience in group-sequential/adaptive designs, multiple testing, Bayesian statistics, optimal...',\n",
       "       'Analyst, Strategy & Insights \\xe2\\x80\\x93 Custom Research - copyInfographics, visualdatarepresentation skills a plus. Comfortable working with largedatafiles and cross tabs....',\n",
       "       'Lead Data ScientistA leading healthcare startup is looking to bring on a SeniorDataScientistto their team. Knowledgeable with BigDataSolutions such as Hadoop or Spark....',\n",
       "       'Field ResearcherTwo years as a City ResearchScientistLevel I can be substituted for the experience required in \"1\" and \"2\" above....',\n",
       "       'RESEARCH ANALYST II, BEHAVIORAL SCIENCESResearch experience working with Statistical Analysis Software (SAS) package, Microsoft ACCESS, and Microsoft Excel to import/export, manage largedatasets...',\n",
       "       'Data ScientistExploit, fuse and usedataanddatasources. Analyzedatausing mathematical/statistical methods. Analyzedatausing appropriate tool set....',\n",
       "       'EH S Compliance SpecialistTwo years as a City ResearchScientistLevel I can be substituted for the experience required in \"1\" and \"2\" above....',\n",
       "       'Research Manager / Business Development AnalystCollect returns and exposuredatafor performance attribution and risk analysis. An asset management firm in New York City is looking to fill an immediate need...',\n",
       "       'STATISTICIAN HLTHKnowledge of automaticdataprocessing techniques, equipment and software, including the demonstrated ability to writedataretrieval and statistical...',\n",
       "       'Lead Data Scientist -- IoT/BiotechAs LeadDataScientistyou will lead a small team ofdataengineers anddatascientistsresponsible for early stage research and production development of the...',\n",
       "       'Child Care Data Analyst, Bureau of ChildcareConductdatachecks for other child caredatateam members. -Assistingdataanalytic emergency response preparedness work....',\n",
       "       'City Research Scientist, Bureau of School HealthAbility to assess gaps in availabledatasources, leaddatacollection efforts, and manage Citydata. Interpretdatafor presentations, planning, policymakers...',\n",
       "       'Market Research Analyst - (Quantitative Research Focus)Perform quality control checks of survey websites &data. Working closely with the Market Research Director, you will help carry out quantitative research by...',\n",
       "       'Data ArchitectGood understanding ofdatagovernance anddatasecurity challenges; As member of the CIO Office, you will ensure that the CorporateDataPlatform fulfills the...',\n",
       "       'Data ScientistOrdatavisualization and interaction. TheDataScientistin The Lab @ DC possesses skills in programming, statistics, and scientific communication , such that...',\n",
       "       'Data Scientist (Machine Learning)BigDatatools:. ThisDataScientistwill be working alongside the Director of Analytics as well as the CTO....',\n",
       "       'Data ScientistExploit, fuse and usedataanddatasources. Applied statistics, calculus, quantitative or statistical methods and techniques,datamining, informatics,data...',\n",
       "       'Supervisory Health ScientistAs a Supervisory HealthScientistyou will:. Identify and apply analytical methods, techniques, and tools to analyze and interpretdata....',\n",
       "       \"Open Source OfficerTogether with OSE's geospatial analysts, cyber specialists, librarians, anddatascientists, the challenge is to identify trends, patterns, and relationships...\",\n",
       "       'Research Staff AssistantProcesses, organizes and summarizesdata, reporting experiment results using a variety of scientific, word processing, spreadsheet or statistical software...',\n",
       "       'StatisticianActivities will include the analysis of research,data, and the creation of summaries, case studies, teaching materials, and other intellectual capital that...',\n",
       "       'Data Scientist/Machine LearningDataScientistFulltime Opportunity in Atlanta, GA (Buckhead)We are looking for a sharpDataScientistwho wants to be a part of building something from the...',\n",
       "       'Tech Lead (Java/Scala/Machine Learning)Experience usingdataanalysis techniques like predictive (regression) modeling. The candidate must also have expertise in recommender engines/systems and...',\n",
       "       'Data Scientist (TS/SCI)AIM Innovations is seeking an fully cleared energetic and creativeDataScientist. Demonstrated on-the-job experience gettingdataor proposing ways in which to...',\n",
       "       'Postdoctoral ResearcherExcellent communication skills (English) with strong ability to plan, document, analyze and report researchdata....',\n",
       "       'climate scientistExperience withdataanalysis and statistical software, such as R, IDL, Matlab, etc. Experience in analysis of climatedataand GCM/RCM output for developing...',\n",
       "       'Business Analyst - SupplyWork with ourDataScientiststo develop proactive acquisition models and machine learning algorithms to identify supply and demand....',\n",
       "       'Bioinformatics Postdoctoral FellowPrimary responsibilities include application and development of bioinformatic and biostatistic algorithms to process and analyze multiple types of high...',\n",
       "       'Junior Data Scientist - R, Web Scraping, Database AlgorithmsThey\\xe2\\x80\\x99ll be looking to add an additionaldatascientistto their current, experienced team of two as they\\xe2\\x80\\x99ll serve as the cornerstone for the learning and growth...',\n",
       "       'SME \\xe2\\x80\\x93 Credit Risk Quantitative Analyst, Vice PresidentAdvanced excel, modeling anddataanalysis , FRM/CFA/CPA or public accounting/management accounting experience a plus....',\n",
       "       'Health ScientistAs a HealthScientist, you will. Identify and apply analytical methods techniques, and tools to analyze and interpretdata....',\n",
       "       'Lead Data Scientist (Graph Analytics)A leading provider of healthcare insurance across the country is growing out their analytics department in their Chicago office and hiring for a LeadData...',\n",
       "       'Bilingual Japanese Jr. Research analystJr. Research Analyst *TEMP to PERM * - Bilingual Japanese International Company seeks a Junior Analyst starting as a temp Position is responsible for:',\n",
       "       'Certifying ScientistA growing clinical toxicology laboratory is seeking a CertifyingScientistwith strong chromatography skills to perform quantification anddatareview....',\n",
       "       'Business Analyst - Research BillingExperience withdataanalytics and makingdata-driven recommendations. Research billing, feasibility analysis, technical guidance, thorough understanding of...',\n",
       "       'Data Scientist - ExperiencedDataScientist- Experienced. Identify and analyze anomalousdata. Analyzedatausing appropriate tool set. Develop tools and techniques for analysis....',\n",
       "       'Quantitative Analyst for Counterparty Risk Team at Tier One...A Tier One Investment Bank is seeking a Quantitative Analyst to be part of their Counterparty Risk group. This team extremely high performing and the firm in',\n",
       "       'Research Analyst, Bureau of Early InterventionAnalyze BEIdataanddatafrom other large datasets, using query/analytic languages such as SAS to manipulate and cleandatafrom databases, and applying...',\n",
       "       'Data ScientistA well-known established company is looking for aDataScientistand is willing to pay up to $150,000. You will be part of the growth team, and will have...',\n",
       "       'Research Associate IMust be able to performdataanalysis using various software packages (e.g. Through this community of healers,scientists, and scholars, Rutgers is equipped as...',\n",
       "       'Catastrophe Risk Analyst - QuantitativeThis is a Portfolio Analyst with one of the world\\xe2\\x80\\x99s largest asset managers - dedicated to natural catastrophe and weather related risk. Responsibilities',\n",
       "       'Data ScientistExploit, fuse and usedataanddatasources. Applied statistics, calculus, quantitative or statistical methods and techniques,datamining, informatics,data...',\n",
       "       'Global Regulatory Research AnalystAnalyze and collectdata, present and defend findings. Polaris is seeking a Global Regulatory Research Analyst whose focus will be to maintain up-to-date...',\n",
       "       'Marketing Specialist | SEO, PPC, Conversion MarketingYou should also have experience communicating with website developers, software engineers anddatascientist....',\n",
       "       'Quantitative Analyst for Global Quant FundExamine and analyzedatato increase alpha and decrease risk. Industry leading multi-billion dollar quant fund looking for Analysts that can drive quantitative...',\n",
       "       'Data Scientist Hedge Fund New YorkDataScientist/DataEngineer. A well established hedge fund in New York City is looking to bring on a talenteddatascientistto theirdatateam....',\n",
       "       'Certifying Scientist / ToxicologistJoin our Medical LaboratoryScientistsGroups:. Reviews drug confirmationdatafrom the laboratory, compares with the initial screeningdatafor accuracy and...',\n",
       "       'Quantitative Research Analyst for Multi-Billion Dollar Hedge...Experience with BigDataConcepts (Hadoop, Spark). Are you Quantitative Research Analyst looking to join a Multi-Billion Dollar Hedge Fund?...',\n",
       "       'Operations Research AnalystDemonstrate knowledge of the theories, principles, and practices of cost analysis in support of the development of cost estimates that includesdatacollection,...',\n",
       "       \"Principal Data ScientistThe PrincipalDataScientiston our team will join a growing division that is at the center of driving our company's business decisions....\",\n",
       "       'Senior Data Scientist - Security Experience is HugeThrough the Our Clients pivotal world-view in the security domain, theDataScientistwill make large-scale and world-shaping impact across diverse sectors...',\n",
       "       'Data Scientist (Natural Language Processing)Natural Language Processing Brisbane, CA Sign on bonus Stocks! Up to 10% bonuses $110-180k depending on experience Fast growing social media company is',\n",
       "       'Data ScientistETL andDatawarehousing experience. A leading provider of video advertising technology in the marketing industry is growing out a new platform in their Chicago...',\n",
       "       'Research AnalystMust have previous experience using Confirmit or other similar survey programming anddatacollection platforms....',\n",
       "       'Postdoctoral FellowCompilesdata, makes necessary calculations and presents results. Through this community of healers,scientists, and scholars, Rutgers is equipped as never...',\n",
       "       'Economist or Statistician (Economics)Editing and finalizingdataanalysis, reports, papers, articles, and projects. Reviews various economic variables indatato isolate true economic changes from...',\n",
       "       'Mathematical StatisticianTo conduct evaluations ofdatacollection, reduction, processing, and analysis methodologies. Evaluatesdataresulting from the application of mathematical...',\n",
       "       'Data Scientist - EngineeringWe are looking for talented, ambitious engineers with some or all of the following expertise. This is an exciting opportunity to get into an up and coming,',\n",
       "       'Research & Development Scientist, Immunology (R&D)R&DScientist(Research and Development). Performdatamanagement and analysis and record/track results....'], dtype=object)"
      ]
     },
     "execution_count": 226,
     "metadata": {},
     "output_type": "execute_result"
    }
   ],
   "source": [
    "# I don't want to deal with a list of lists, so I use ravel.\n",
    "X_train.values.ravel()"
   ]
  },
  {
   "cell_type": "code",
   "execution_count": 178,
   "metadata": {
    "collapsed": true
   },
   "outputs": [],
   "source": [
    "from sklearn.feature_extraction.text import TfidfVectorizer\n",
    "tvec = TfidfVectorizer()"
   ]
  },
  {
   "cell_type": "code",
   "execution_count": 215,
   "metadata": {
    "collapsed": true
   },
   "outputs": [],
   "source": [
    "from sklearn.cross_validation import train_test_split\n",
    "X_train, X_test, y_train, y_test = train_test_split(X, y)"
   ]
  },
  {
   "cell_type": "code",
   "execution_count": 227,
   "metadata": {
    "collapsed": false
   },
   "outputs": [
    {
     "data": {
      "text/plain": [
       "TfidfVectorizer(analyzer=u'word', binary=False, decode_error=u'strict',\n",
       "        dtype=<type 'numpy.int64'>, encoding=u'utf-8', input=u'content',\n",
       "        lowercase=True, max_df=1.0, max_features=None, min_df=1,\n",
       "        ngram_range=(1, 1), norm=u'l2', preprocessor=None, smooth_idf=True,\n",
       "        stop_words=None, strip_accents=None, sublinear_tf=False,\n",
       "        token_pattern=u'(?u)\\\\b\\\\w\\\\w+\\\\b', tokenizer=None, use_idf=True,\n",
       "        vocabulary=None)"
      ]
     },
     "execution_count": 227,
     "metadata": {},
     "output_type": "execute_result"
    }
   ],
   "source": [
    "tvec.fit(X_train.values.ravel(), y_train)"
   ]
  },
  {
   "cell_type": "code",
   "execution_count": 206,
   "metadata": {
    "collapsed": true
   },
   "outputs": [],
   "source": [
    "from sklearn.linear_model import LogisticRegression\n",
    "from sklearn import metrics\n",
    "lr = LogisticRegression()"
   ]
  },
  {
   "cell_type": "code",
   "execution_count": 228,
   "metadata": {
    "collapsed": true
   },
   "outputs": [],
   "source": [
    "X_train = pd.DataFrame(tvec.transform(X_train.values.ravel()).todense(),\n",
    "                   columns=tvec.get_feature_names())\n",
    "X_test = pd.DataFrame(tvec.transform(X_test.values.ravel()).todense(),\n",
    "                   columns=tvec.get_feature_names())"
   ]
  },
  {
   "cell_type": "code",
   "execution_count": 229,
   "metadata": {
    "collapsed": false
   },
   "outputs": [
    {
     "data": {
      "text/plain": [
       "LogisticRegression(C=1.0, class_weight=None, dual=False, fit_intercept=True,\n",
       "          intercept_scaling=1, max_iter=100, multi_class='ovr', n_jobs=1,\n",
       "          penalty='l2', random_state=None, solver='liblinear', tol=0.0001,\n",
       "          verbose=0, warm_start=False)"
      ]
     },
     "execution_count": 229,
     "metadata": {},
     "output_type": "execute_result"
    }
   ],
   "source": [
    "lr.fit(X_train, y_train)"
   ]
  },
  {
   "cell_type": "code",
   "execution_count": 231,
   "metadata": {
    "collapsed": false
   },
   "outputs": [
    {
     "data": {
      "text/plain": [
       "0.70967741935483875"
      ]
     },
     "execution_count": 231,
     "metadata": {},
     "output_type": "execute_result"
    }
   ],
   "source": [
    "y_pred = lr.predict(X_test)\n",
    "metrics.accuracy_score(y_pred, y_test)"
   ]
  },
  {
   "cell_type": "markdown",
   "metadata": {
    "collapsed": false,
    "focus": false,
    "id": "ddbc6159-6854-4ca7-857f-bfecdaf6d9c2"
   },
   "source": [
    "## TF-IDF w/ SVM"
   ]
  },
  {
   "cell_type": "code",
   "execution_count": 257,
   "metadata": {
    "collapsed": false
   },
   "outputs": [
    {
     "data": {
      "text/plain": [
       "TfidfVectorizer(analyzer=u'word', binary=False, decode_error=u'strict',\n",
       "        dtype=<type 'numpy.int64'>, encoding=u'utf-8', input=u'content',\n",
       "        lowercase=True, max_df=1.0, max_features=None, min_df=1,\n",
       "        ngram_range=(1, 1), norm=u'l2', preprocessor=None, smooth_idf=True,\n",
       "        stop_words=None, strip_accents=None, sublinear_tf=False,\n",
       "        token_pattern=u'(?u)\\\\b\\\\w\\\\w+\\\\b', tokenizer=None, use_idf=True,\n",
       "        vocabulary=None)"
      ]
     },
     "execution_count": 257,
     "metadata": {},
     "output_type": "execute_result"
    }
   ],
   "source": [
    "X = listings.loc[:, ['titles', 'summaries']]\n",
    "y = listings.above_median\n",
    "X['alltext'] = X.titles + X.summaries\n",
    "X.drop(['titles', 'summaries'], axis=1, inplace=True)\n",
    "X_train.values.ravel()\n",
    "from sklearn.feature_extraction.text import TfidfVectorizer\n",
    "tvec = TfidfVectorizer()\n",
    "from sklearn.cross_validation import train_test_split\n",
    "X_train, X_test, y_train, y_test = train_test_split(X, y)\n",
    "tvec.fit(X_train.values.ravel(), y_train)"
   ]
  },
  {
   "cell_type": "code",
   "execution_count": 258,
   "metadata": {
    "collapsed": true
   },
   "outputs": [],
   "source": [
    "X_train = pd.DataFrame(tvec.transform(X_train.values.ravel()).todense(),\n",
    "                   columns=tvec.get_feature_names())\n",
    "X_test = pd.DataFrame(tvec.transform(X_test.values.ravel()).todense(),\n",
    "                   columns=tvec.get_feature_names())"
   ]
  },
  {
   "cell_type": "code",
   "execution_count": 259,
   "metadata": {
    "collapsed": true
   },
   "outputs": [],
   "source": [
    "svc = svm.SVC()"
   ]
  },
  {
   "cell_type": "code",
   "execution_count": 261,
   "metadata": {
    "collapsed": true
   },
   "outputs": [],
   "source": [
    "import numpy as np"
   ]
  },
  {
   "cell_type": "code",
   "execution_count": 262,
   "metadata": {
    "collapsed": false
   },
   "outputs": [
    {
     "data": {
      "text/plain": [
       "GridSearchCV(cv=10, error_score='raise',\n",
       "       estimator=SVC(C=1.0, cache_size=200, class_weight=None, coef0=0.0,\n",
       "  decision_function_shape=None, degree=3, gamma='auto', kernel='rbf',\n",
       "  max_iter=-1, probability=False, random_state=None, shrinking=True,\n",
       "  tol=0.001, verbose=False),\n",
       "       fit_params={}, iid=True, n_jobs=1,\n",
       "       param_grid={'kernel': ['rbf', 'sigmoid', 'linear', 'poly'], 'C': array([  1.00000e-02,   1.00000e-01,   1.00000e+00,   1.00000e+01,\n",
       "         1.00000e+02]), 'gamma': array([  1.00000e-05,   1.00000e-04,   1.00000e-03,   1.00000e-02,\n",
       "         1.00000e-01,   1.00000e+00,   1.00000e+01])},\n",
       "       pre_dispatch='2*n_jobs', refit=True, scoring='accuracy', verbose=0)"
      ]
     },
     "execution_count": 262,
     "metadata": {},
     "output_type": "execute_result"
    }
   ],
   "source": [
    "gamma_range = 10.**np.arange(-5, 2)\n",
    "C_range = 10.**np.arange(-2, 3)\n",
    "kernel_range = ['rbf', 'sigmoid', 'linear', 'poly']\n",
    "param_grid = dict(gamma=gamma_range, C=C_range, kernel=kernel_range)\n",
    "gs = GridSearchCV(svc, param_grid, cv=10, scoring='accuracy')\n",
    "gs.fit(X_train, y_train)"
   ]
  },
  {
   "cell_type": "code",
   "execution_count": 264,
   "metadata": {
    "collapsed": false
   },
   "outputs": [
    {
     "name": "stdout",
     "output_type": "stream",
     "text": [
      "0.728260869565\n",
      "{'kernel': 'rbf', 'C': 10.0, 'gamma': 0.10000000000000001}\n",
      "SVC(C=10.0, cache_size=200, class_weight=None, coef0=0.0,\n",
      "  decision_function_shape=None, degree=3, gamma=0.10000000000000001,\n",
      "  kernel='rbf', max_iter=-1, probability=False, random_state=None,\n",
      "  shrinking=True, tol=0.001, verbose=False)\n"
     ]
    }
   ],
   "source": [
    "print gs.best_score_\n",
    "print gs.best_params_\n",
    "print gs.best_estimator_"
   ]
  },
  {
   "cell_type": "markdown",
   "metadata": {},
   "source": [
    "## TF-IDF w/ Random Forest"
   ]
  },
  {
   "cell_type": "code",
   "execution_count": 275,
   "metadata": {
    "collapsed": false
   },
   "outputs": [
    {
     "data": {
      "text/plain": [
       "TfidfVectorizer(analyzer=u'word', binary=False, decode_error=u'strict',\n",
       "        dtype=<type 'numpy.int64'>, encoding=u'utf-8', input=u'content',\n",
       "        lowercase=True, max_df=1.0, max_features=None, min_df=1,\n",
       "        ngram_range=(1, 1), norm=u'l2', preprocessor=None, smooth_idf=True,\n",
       "        stop_words=None, strip_accents=None, sublinear_tf=False,\n",
       "        token_pattern=u'(?u)\\\\b\\\\w\\\\w+\\\\b', tokenizer=None, use_idf=True,\n",
       "        vocabulary=None)"
      ]
     },
     "execution_count": 275,
     "metadata": {},
     "output_type": "execute_result"
    }
   ],
   "source": [
    "X = listings.loc[:, ['titles', 'summaries']]\n",
    "y = listings.above_median\n",
    "X['alltext'] = X.titles + X.summaries\n",
    "X.drop(['titles', 'summaries'], axis=1, inplace=True)\n",
    "X_train.values.ravel()\n",
    "from sklearn.feature_extraction.text import TfidfVectorizer\n",
    "tvec = TfidfVectorizer()\n",
    "tvec.fit(X.values.ravel(), y)"
   ]
  },
  {
   "cell_type": "code",
   "execution_count": 276,
   "metadata": {
    "collapsed": true
   },
   "outputs": [],
   "source": [
    "X = pd.DataFrame(tvec.transform(X.values.ravel()).todense(),\n",
    "                   columns=tvec.get_feature_names())"
   ]
  },
  {
   "cell_type": "code",
   "execution_count": 277,
   "metadata": {
    "collapsed": false
   },
   "outputs": [
    {
     "data": {
      "text/plain": [
       "0.65853658536585369"
      ]
     },
     "execution_count": 277,
     "metadata": {},
     "output_type": "execute_result"
    }
   ],
   "source": [
    "cv = KFold(len(y), n_folds=3, shuffle=True, random_state=41)\n",
    "rfc = RandomForestClassifier()\n",
    "cross_val_score(rfc, X, y, cv = cv).mean()"
   ]
  },
  {
   "cell_type": "code",
   "execution_count": 278,
   "metadata": {
    "collapsed": true
   },
   "outputs": [],
   "source": [
    "param_grid = {'n_estimators':[8,10,12,20],\n",
    "              'criterion': ['gini', 'entropy'],\n",
    "              'max_features':['sqrt', 'log2', None],\n",
    "              'min_samples_split':[2,4,6,8],\n",
    "              'min_samples_leaf': [1,2,3,4]}\n",
    "\n",
    "gs = GridSearchCV(rfc, param_grid, cv=cv)"
   ]
  },
  {
   "cell_type": "code",
   "execution_count": 279,
   "metadata": {
    "collapsed": false
   },
   "outputs": [
    {
     "data": {
      "text/plain": [
       "GridSearchCV(cv=sklearn.cross_validation.KFold(n=123, n_folds=3, shuffle=True, random_state=41),\n",
       "       error_score='raise',\n",
       "       estimator=RandomForestClassifier(bootstrap=True, class_weight=None, criterion='gini',\n",
       "            max_depth=None, max_features='auto', max_leaf_nodes=None,\n",
       "            min_samples_leaf=1, min_samples_split=2,\n",
       "            min_weight_fraction_leaf=0.0, n_estimators=10, n_jobs=1,\n",
       "            oob_score=False, random_state=None, verbose=0,\n",
       "            warm_start=False),\n",
       "       fit_params={}, iid=True, n_jobs=1,\n",
       "       param_grid={'n_estimators': [8, 10, 12, 20], 'max_features': ['sqrt', 'log2', None], 'min_samples_split': [2, 4, 6, 8], 'criterion': ['gini', 'entropy'], 'min_samples_leaf': [1, 2, 3, 4]},\n",
       "       pre_dispatch='2*n_jobs', refit=True, scoring=None, verbose=0)"
      ]
     },
     "execution_count": 279,
     "metadata": {},
     "output_type": "execute_result"
    }
   ],
   "source": [
    "gs.fit(X, y)"
   ]
  },
  {
   "cell_type": "code",
   "execution_count": 280,
   "metadata": {
    "collapsed": false
   },
   "outputs": [
    {
     "name": "stdout",
     "output_type": "stream",
     "text": [
      "0.772357723577\n",
      "{'max_features': None, 'min_samples_split': 4, 'n_estimators': 12, 'criterion': 'entropy', 'min_samples_leaf': 3}\n",
      "RandomForestClassifier(bootstrap=True, class_weight=None, criterion='entropy',\n",
      "            max_depth=None, max_features=None, max_leaf_nodes=None,\n",
      "            min_samples_leaf=3, min_samples_split=4,\n",
      "            min_weight_fraction_leaf=0.0, n_estimators=12, n_jobs=1,\n",
      "            oob_score=False, random_state=None, verbose=0,\n",
      "            warm_start=False)\n"
     ]
    }
   ],
   "source": [
    "print gs.best_score_\n",
    "print gs.best_params_\n",
    "print gs.best_estimator_"
   ]
  },
  {
   "cell_type": "markdown",
   "metadata": {},
   "source": [
    "## Same as above, but with city"
   ]
  },
  {
   "cell_type": "code",
   "execution_count": 281,
   "metadata": {
    "collapsed": true
   },
   "outputs": [],
   "source": [
    "X['city'] = listings.city"
   ]
  },
  {
   "cell_type": "code",
   "execution_count": 284,
   "metadata": {
    "collapsed": true
   },
   "outputs": [],
   "source": [
    "X.city = pd.DataFrame(LabelEncoder().fit_transform(X.city))"
   ]
  },
  {
   "cell_type": "code",
   "execution_count": 289,
   "metadata": {
    "collapsed": false
   },
   "outputs": [
    {
     "data": {
      "text/plain": [
       "GridSearchCV(cv=sklearn.cross_validation.KFold(n=123, n_folds=3, shuffle=True, random_state=41),\n",
       "       error_score='raise',\n",
       "       estimator=RandomForestClassifier(bootstrap=True, class_weight=None, criterion='gini',\n",
       "            max_depth=None, max_features='auto', max_leaf_nodes=None,\n",
       "            min_samples_leaf=1, min_samples_split=2,\n",
       "            min_weight_fraction_leaf=0.0, n_estimators=10, n_jobs=1,\n",
       "            oob_score=False, random_state=None, verbose=0,\n",
       "            warm_start=False),\n",
       "       fit_params={}, iid=True, n_jobs=1,\n",
       "       param_grid={'n_estimators': [8, 10, 12, 20], 'max_features': ['sqrt', 'log2', None], 'min_samples_split': [2, 4, 6, 8], 'criterion': ['gini', 'entropy'], 'min_samples_leaf': [1, 2, 3, 4]},\n",
       "       pre_dispatch='2*n_jobs', refit=True, scoring=None, verbose=0)"
      ]
     },
     "execution_count": 289,
     "metadata": {},
     "output_type": "execute_result"
    }
   ],
   "source": [
    "gs.fit(X, y)"
   ]
  },
  {
   "cell_type": "code",
   "execution_count": 290,
   "metadata": {
    "collapsed": false
   },
   "outputs": [
    {
     "name": "stdout",
     "output_type": "stream",
     "text": [
      "0.756097560976\n",
      "{'max_features': None, 'min_samples_split': 2, 'n_estimators': 8, 'criterion': 'entropy', 'min_samples_leaf': 2}\n",
      "RandomForestClassifier(bootstrap=True, class_weight=None, criterion='entropy',\n",
      "            max_depth=None, max_features=None, max_leaf_nodes=None,\n",
      "            min_samples_leaf=2, min_samples_split=2,\n",
      "            min_weight_fraction_leaf=0.0, n_estimators=8, n_jobs=1,\n",
      "            oob_score=False, random_state=None, verbose=0,\n",
      "            warm_start=False)\n"
     ]
    }
   ],
   "source": [
    "# Unfortunately, just a little bit worse.\n",
    "print gs.best_score_\n",
    "print gs.best_params_\n",
    "print gs.best_estimator_"
   ]
  },
  {
   "cell_type": "markdown",
   "metadata": {},
   "source": [
    "## Extra Trees Classifier"
   ]
  },
  {
   "cell_type": "code",
   "execution_count": 296,
   "metadata": {
    "collapsed": false
   },
   "outputs": [
    {
     "data": {
      "text/plain": [
       "TfidfVectorizer(analyzer=u'word', binary=False, decode_error=u'strict',\n",
       "        dtype=<type 'numpy.int64'>, encoding=u'utf-8', input=u'content',\n",
       "        lowercase=True, max_df=1.0, max_features=None, min_df=1,\n",
       "        ngram_range=(1, 1), norm=u'l2', preprocessor=None, smooth_idf=True,\n",
       "        stop_words=None, strip_accents=None, sublinear_tf=False,\n",
       "        token_pattern=u'(?u)\\\\b\\\\w\\\\w+\\\\b', tokenizer=None, use_idf=True,\n",
       "        vocabulary=None)"
      ]
     },
     "execution_count": 296,
     "metadata": {},
     "output_type": "execute_result"
    }
   ],
   "source": [
    "X = listings.loc[:, ['titles', 'summaries']]\n",
    "y = listings.above_median\n",
    "X['alltext'] = X.titles + X.summaries\n",
    "X.drop(['titles', 'summaries'], axis=1, inplace=True)\n",
    "X_train.values.ravel()\n",
    "from sklearn.feature_extraction.text import TfidfVectorizer\n",
    "tvec = TfidfVectorizer()\n",
    "tvec.fit(X.values.ravel(), y)"
   ]
  },
  {
   "cell_type": "code",
   "execution_count": 297,
   "metadata": {
    "collapsed": true
   },
   "outputs": [],
   "source": [
    "X = pd.DataFrame(tvec.transform(X.values.ravel()).todense(),\n",
    "                   columns=tvec.get_feature_names())"
   ]
  },
  {
   "cell_type": "code",
   "execution_count": 302,
   "metadata": {
    "collapsed": true
   },
   "outputs": [],
   "source": [
    "from sklearn.ensemble import ExtraTreesClassifier"
   ]
  },
  {
   "cell_type": "code",
   "execution_count": 303,
   "metadata": {
    "collapsed": false
   },
   "outputs": [
    {
     "data": {
      "text/plain": [
       "0.73170731707317083"
      ]
     },
     "execution_count": 303,
     "metadata": {},
     "output_type": "execute_result"
    }
   ],
   "source": [
    "cv = KFold(len(y), n_folds=3, shuffle=True, random_state=41)\n",
    "etc = ExtraTreesClassifier()\n",
    "cross_val_score(etc, X, y, cv = cv).mean()"
   ]
  },
  {
   "cell_type": "code",
   "execution_count": 304,
   "metadata": {
    "collapsed": true
   },
   "outputs": [],
   "source": [
    "param_grid = {'n_estimators':[8,10,12,20],\n",
    "              'criterion': ['gini', 'entropy'],\n",
    "              'max_features':['sqrt', 'log2', None],\n",
    "              'min_samples_split':[2,4,6,8],\n",
    "              'min_samples_leaf': [1,2,3,4]}\n",
    "\n",
    "gs = GridSearchCV(etc, param_grid, cv=cv)"
   ]
  },
  {
   "cell_type": "code",
   "execution_count": 305,
   "metadata": {
    "collapsed": false
   },
   "outputs": [
    {
     "data": {
      "text/plain": [
       "GridSearchCV(cv=sklearn.cross_validation.KFold(n=123, n_folds=3, shuffle=True, random_state=41),\n",
       "       error_score='raise',\n",
       "       estimator=ExtraTreesClassifier(bootstrap=False, class_weight=None, criterion='gini',\n",
       "           max_depth=None, max_features='auto', max_leaf_nodes=None,\n",
       "           min_samples_leaf=1, min_samples_split=2,\n",
       "           min_weight_fraction_leaf=0.0, n_estimators=10, n_jobs=1,\n",
       "           oob_score=False, random_state=None, verbose=0, warm_start=False),\n",
       "       fit_params={}, iid=True, n_jobs=1,\n",
       "       param_grid={'n_estimators': [8, 10, 12, 20], 'max_features': ['sqrt', 'log2', None], 'min_samples_split': [2, 4, 6, 8], 'criterion': ['gini', 'entropy'], 'min_samples_leaf': [1, 2, 3, 4]},\n",
       "       pre_dispatch='2*n_jobs', refit=True, scoring=None, verbose=0)"
      ]
     },
     "execution_count": 305,
     "metadata": {},
     "output_type": "execute_result"
    }
   ],
   "source": [
    "gs.fit(X, y)"
   ]
  },
  {
   "cell_type": "code",
   "execution_count": 306,
   "metadata": {
    "collapsed": false
   },
   "outputs": [
    {
     "name": "stdout",
     "output_type": "stream",
     "text": [
      "0.756097560976\n",
      "{'max_features': None, 'min_samples_split': 2, 'n_estimators': 8, 'criterion': 'gini', 'min_samples_leaf': 4}\n",
      "ExtraTreesClassifier(bootstrap=False, class_weight=None, criterion='gini',\n",
      "           max_depth=None, max_features=None, max_leaf_nodes=None,\n",
      "           min_samples_leaf=4, min_samples_split=2,\n",
      "           min_weight_fraction_leaf=0.0, n_estimators=8, n_jobs=1,\n",
      "           oob_score=False, random_state=None, verbose=0, warm_start=False)\n"
     ]
    }
   ],
   "source": [
    "print gs.best_score_\n",
    "print gs.best_params_\n",
    "print gs.best_estimator_"
   ]
  },
  {
   "cell_type": "markdown",
   "metadata": {},
   "source": [
    "#### Random Forest Regressor\n",
    "\n",
    "Let's try treating this as a regression problem. \n",
    "\n",
    "- Train a random forest regressor on the regression problem and predict your dependent.\n",
    "- Evaluate the score with a 5-fold cross-validation\n",
    "- Do a scatter plot of the predicted vs actual scores for each of the 5 folds, do they match?"
   ]
  },
  {
   "cell_type": "code",
   "execution_count": null,
   "metadata": {
    "collapsed": false,
    "focus": false,
    "id": "56cc8854-d722-411d-a6c7-e86310710f67"
   },
   "outputs": [],
   "source": [
    "## YOUR CODE HERE"
   ]
  },
  {
   "cell_type": "code",
   "execution_count": 237,
   "metadata": {
    "collapsed": true
   },
   "outputs": [],
   "source": [
    "X = listings.city\n",
    "X = pd.get_dummies(X)\n",
    "X.drop('New York', axis=1, inplace=True)\n",
    "X['senior'] = listings.senior\n",
    "X['entry'] = listings.entry"
   ]
  },
  {
   "cell_type": "code",
   "execution_count": 242,
   "metadata": {
    "collapsed": true
   },
   "outputs": [],
   "source": [
    "y = listings.salary"
   ]
  },
  {
   "cell_type": "code",
   "execution_count": 247,
   "metadata": {
    "collapsed": false
   },
   "outputs": [
    {
     "data": {
      "text/plain": [
       "-0.099257787585901536"
      ]
     },
     "execution_count": 247,
     "metadata": {},
     "output_type": "execute_result"
    }
   ],
   "source": [
    "from sklearn.ensemble import RandomForestRegressor\n",
    "rfr = RandomForestRegressor()\n",
    "cross_val_score(rfr, X, y, cv = cv).mean()"
   ]
  },
  {
   "cell_type": "code",
   "execution_count": 248,
   "metadata": {
    "collapsed": false
   },
   "outputs": [
    {
     "name": "stdout",
     "output_type": "stream",
     "text": [
      "0.0364537646953\n",
      "{'max_features': 'sqrt', 'min_samples_split': 4, 'n_estimators': 8, 'min_samples_leaf': 2}\n"
     ]
    }
   ],
   "source": [
    "param_grid = {'n_estimators':[8,10,12,20],\n",
    "              'max_features':['sqrt', 'log2', None],\n",
    "              'min_samples_split':[2,4,6,8],\n",
    "              'min_samples_leaf': [1,2,3,4]}\n",
    "\n",
    "gs = GridSearchCV(rfr, param_grid, cv=cv).fit(X, y)\n",
    "print gs.best_score_\n",
    "print gs.best_params_"
   ]
  },
  {
   "cell_type": "code",
   "execution_count": 249,
   "metadata": {
    "collapsed": false
   },
   "outputs": [
    {
     "data": {
      "text/plain": [
       "array([  97471.95682999,   97471.95682999,   97471.95682999,\n",
       "         97471.95682999,   97674.70682999,   97674.70682999,\n",
       "         97674.70682999,   97674.70682999,   97674.70682999,\n",
       "         97674.70682999,   97674.70682999,  117985.41206405,\n",
       "        129618.97461792,  110478.10083702,  129618.97461792,\n",
       "         97471.95682999,  118901.38484958,  110478.10083702,\n",
       "        132926.43402304,   96580.56289059,  132926.43402304,\n",
       "        140995.50295804,   97471.95682999,  129618.97461792,\n",
       "        129618.97461792,   97471.95682999,   97471.95682999,\n",
       "         97471.95682999,   97471.95682999,  117985.41206405,\n",
       "         97471.95682999,   97471.95682999,   97471.95682999,\n",
       "         97471.95682999,   97471.95682999,   97471.95682999,\n",
       "         97471.95682999,  117985.41206405,   97471.95682999,\n",
       "         97471.95682999,   97471.95682999,   97471.95682999,\n",
       "         97471.95682999,   97471.95682999,   97471.95682999,\n",
       "         97471.95682999,   97471.95682999,   96580.56289059,\n",
       "         97471.95682999,   97471.95682999,   97471.95682999,\n",
       "         97471.95682999,   97471.95682999,   97471.95682999,\n",
       "         97471.95682999,  117985.41206405,   97471.95682999,\n",
       "         78635.45177666,   97471.95682999,   97471.95682999,\n",
       "         78635.45177666,   78635.45177666,   78635.45177666,\n",
       "         78635.45177666,   97471.95682999,   97471.95682999,\n",
       "         97471.95682999,   97471.95682999,   97471.95682999,\n",
       "         97471.95682999,   78635.45177666,   97471.95682999,\n",
       "         97471.95682999,   97471.95682999,  105903.47955726,\n",
       "        105903.47955726,  119928.52873072,   97471.95682999,\n",
       "        105903.47955726,  105903.47955726,   97471.95682999,\n",
       "         97471.95682999,   97471.95682999,   97471.95682999,\n",
       "         97471.95682999,   97471.95682999,   97471.95682999,\n",
       "        101021.36646202,  101021.36646202,  101021.36646202,\n",
       "        101021.36646202,  101021.36646202,  101021.36646202,\n",
       "        101021.36646202,  101021.36646202,  101021.36646202,\n",
       "         97471.95682999,   97471.95682999,   97471.95682999,\n",
       "         97471.95682999,  116762.80540382,   93635.83123036,\n",
       "         97471.95682999,   91240.99552666,   93635.83123036,\n",
       "         93635.83123036,   93635.83123036,   99130.34414059,\n",
       "         93635.83123036,   97471.95682999,   91240.99552666,\n",
       "         97471.95682999,   93635.83123036,   97471.95682999,\n",
       "         93635.83123036,  115506.64473732,   99130.34414059,\n",
       "         91240.99552666,   91240.99552666,  113155.39331405,\n",
       "         93635.83123036,   96580.56289059,  113155.39331405])"
      ]
     },
     "execution_count": 249,
     "metadata": {},
     "output_type": "execute_result"
    }
   ],
   "source": [
    "gs.predict(X)"
   ]
  },
  {
   "cell_type": "code",
   "execution_count": 250,
   "metadata": {
    "collapsed": false
   },
   "outputs": [
    {
     "data": {
      "text/plain": [
       "<matplotlib.collections.PathCollection at 0x1120dfc90>"
      ]
     },
     "execution_count": 250,
     "metadata": {},
     "output_type": "execute_result"
    },
    {
     "data": {
      "image/png": "[encoded data removed]",
      "text/plain": [
       "<matplotlib.figure.Figure at 0x11d5a9f10>"
      ]
     },
     "metadata": {},
     "output_type": "display_data"
    }
   ],
   "source": [
    "plt.scatter(gs.predict(X), y)"
   ]
  },
  {
   "cell_type": "markdown",
   "metadata": {},
   "source": [
    "## Regression, but with TD-IDF'd X (plus location)"
   ]
  },
  {
   "cell_type": "code",
   "execution_count": null,
   "metadata": {
    "collapsed": true
   },
   "outputs": [],
   "source": [
    "X = listings.loc[:, ['titles', 'summaries']]\n",
    "y = listings.above_median\n",
    "X['alltext'] = X.titles + X.summaries\n",
    "X.drop(['titles', 'summaries'], axis=1, inplace=True)\n",
    "X_train.values.ravel()\n",
    "from sklearn.feature_extraction.text import TfidfVectorizer\n",
    "tvec = TfidfVectorizer()\n",
    "tvec.fit(X.values.ravel(), y)"
   ]
  },
  {
   "cell_type": "code",
   "execution_count": null,
   "metadata": {
    "collapsed": true
   },
   "outputs": [],
   "source": [
    "X = pd.DataFrame(tvec.transform(X.values.ravel()).todense(),\n",
    "                   columns=tvec.get_feature_names())"
   ]
  },
  {
   "cell_type": "code",
   "execution_count": null,
   "metadata": {
    "collapsed": true
   },
   "outputs": [],
   "source": [
    "X['city'] = listings.city"
   ]
  },
  {
   "cell_type": "code",
   "execution_count": null,
   "metadata": {
    "collapsed": true
   },
   "outputs": [],
   "source": [
    "X.city = pd.DataFrame(LabelEncoder().fit_transform(X.city))"
   ]
  },
  {
   "cell_type": "code",
   "execution_count": 294,
   "metadata": {
    "collapsed": false
   },
   "outputs": [
    {
     "name": "stdout",
     "output_type": "stream",
     "text": [
      "0.210141716051\n",
      "{'max_features': 'log2', 'min_samples_split': 4, 'n_estimators': 10, 'min_samples_leaf': 1}\n"
     ]
    }
   ],
   "source": [
    "param_grid = {'n_estimators':[8,10,12,20],\n",
    "              'max_features':['sqrt', 'log2', None],\n",
    "              'min_samples_split':[2,4,6,8],\n",
    "              'min_samples_leaf': [1,2,3,4]}\n",
    "\n",
    "gs = GridSearchCV(rfr, param_grid, cv=cv).fit(X, listings.salary)\n",
    "print gs.best_score_\n",
    "print gs.best_params_"
   ]
  },
  {
   "cell_type": "code",
   "execution_count": 295,
   "metadata": {
    "collapsed": false
   },
   "outputs": [
    {
     "data": {
      "text/plain": [
       "<matplotlib.collections.PathCollection at 0x11dc5da50>"
      ]
     },
     "execution_count": 295,
     "metadata": {},
     "output_type": "execute_result"
    },
    {
     "data": {
      "image/png": "[encoded data removed]",
      "text/plain": [
       "<matplotlib.figure.Figure at 0x11dc0b910>"
      ]
     },
     "metadata": {},
     "output_type": "display_data"
    }
   ],
   "source": [
    "plt.scatter(gs.predict(X), listings.salary)"
   ]
  },
  {
   "cell_type": "code",
   "execution_count": 319,
   "metadata": {
    "collapsed": true
   },
   "outputs": [],
   "source": [
    "X = listings.loc[:, ['titles', 'summaries']]\n",
    "y = listings.above_median\n",
    "X['alltext'] = X.titles + X.summaries\n",
    "X.drop(['titles', 'summaries'], axis=1, inplace=True)\n",
    "X_train.values.ravel()\n",
    "from sklearn.feature_extraction.text import TfidfVectorizer\n",
    "tvec = TfidfVectorizer()\n",
    "tvec.fit(X.values.ravel(), y)\n",
    "X = pd.DataFrame(tvec.transform(X.values.ravel()).todense(),\n",
    "                   columns=tvec.get_feature_names())"
   ]
  }
 ],
 "metadata": {
  "anaconda-cloud": {},
  "kernelspec": {
   "display_name": "Python [Root]",
   "language": "python",
   "name": "Python [Root]"
  },
  "language_info": {
   "codemirror_mode": {
    "name": "ipython",
    "version": 2
   },
   "file_extension": ".py",
   "mimetype": "text/x-python",
   "name": "python",
   "nbconvert_exporter": "python",
   "pygments_lexer": "ipython2",
   "version": "2.7.12"
  }
 },
 "nbformat": 4,
 "nbformat_minor": 0
}

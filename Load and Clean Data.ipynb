{
 "cells": [
  {
   "cell_type": "code",
   "execution_count": 1,
   "metadata": {
    "collapsed": false
   },
   "outputs": [],
   "source": [
    "%matplotlib inline\n",
    "import pandas as pd\n",
    "import matplotlib.pyplot as plt\n",
    "import seaborn as sns\n",
    "import numpy as np"
   ]
  },
  {
   "cell_type": "markdown",
   "metadata": {},
   "source": [
    "The data for this project, which was compiled by the Bureau of Justice Statistics, is available here: http://www.icpsr.umich.edu/icpsrweb/NACJD/studies/36404?fundingAgency=United+States+Department+of+Justice.+Office+of+Justice+Programs.+Bureau+of+Justice+Statistics&dataFormat%5B0%5D=Delimited&q=&sortBy=5&paging.startRow=1"
   ]
  },
  {
   "cell_type": "code",
   "execution_count": 2,
   "metadata": {
    "collapsed": false
   },
   "outputs": [
    {
     "name": "stderr",
     "output_type": "stream",
     "text": [
      "/Users/Nick/anaconda/lib/python2.7/site-packages/IPython/core/interactiveshell.py:2723: DtypeWarning: Columns (10) have mixed types. Specify dtype option on import or set low_memory=False.\n",
      "  interactivity=interactivity, compiler=compiler, result=result)\n"
     ]
    }
   ],
   "source": [
    "sentences = pd.read_csv('/users/nick/desktop/TermRecords.tsv', sep='\\t')"
   ]
  },
  {
   "cell_type": "markdown",
   "metadata": {
    "collapsed": false
   },
   "source": [
    "Much of the data is label-encoded. I want columns with unencoded values so that I can easier\n",
    "interpret what's going on. (This will require using the codebook that accompanies this dataset.) The columns I create will have lowercase headers. "
   ]
  },
  {
   "cell_type": "code",
   "execution_count": 3,
   "metadata": {
    "collapsed": true
   },
   "outputs": [],
   "source": [
    "offgeneral_map = {1: 'Violent',\n",
    "                  2: 'Property',\n",
    "                  3: 'Drugs',\n",
    "                  4: 'Public order',\n",
    "                  5: 'Other',\n",
    "                  9: 'Missing'}\n",
    "\n",
    "sentences['off_general'] = sentences.OFFGENERAL.map(offgeneral_map)"
   ]
  },
  {
   "cell_type": "code",
   "execution_count": 4,
   "metadata": {
    "collapsed": true
   },
   "outputs": [],
   "source": [
    "offdetail_map = {1: 'Murder',\n",
    "                 2: 'Negligent manslaughter',\n",
    "                 3: 'Rape/Sexual Assault',\n",
    "                 4: 'Robbery',\n",
    "                 5: 'Aggravated or simple assault',\n",
    "                 6: 'Other violent offences',\n",
    "                 7: 'Burglary',\n",
    "                 8: 'Larceny',\n",
    "                 9: 'Motor vehicle theft',\n",
    "                 10: 'Fraud',\n",
    "                 11: 'Other property offenses',\n",
    "                 12: 'Drugs',\n",
    "                 13: 'Public order',\n",
    "                 14: 'Other',\n",
    "                 99: 'Missing'}\n",
    "\n",
    "sentences['off_detail'] = sentences.OFFDETAIL.map(offdetail_map)"
   ]
  },
  {
   "cell_type": "code",
   "execution_count": 5,
   "metadata": {
    "collapsed": false
   },
   "outputs": [],
   "source": [
    "state_map = {1: 'AL',\n",
    "             2: 'AK',\n",
    "             4: 'AZ',\n",
    "             5: 'AR', \n",
    "             6: 'CA', \n",
    "             8: 'CO',\n",
    "             9: 'CN',\n",
    "             10: 'DE',\n",
    "             11: 'DC',\n",
    "             12: 'FL',\n",
    "             13: 'GA',\n",
    "             15: 'HI',\n",
    "             16: 'ID',\n",
    "             17: 'IL', \n",
    "             18: 'IN',\n",
    "             19: 'IA',\n",
    "             20: 'KS',\n",
    "             21: 'KY',\n",
    "             22: 'LA',\n",
    "             23: 'ME',\n",
    "             24: 'MD',\n",
    "             25: 'MA',\n",
    "             26: 'MI',\n",
    "             27: 'MN',\n",
    "             28: 'MS',\n",
    "             29: 'MO',\n",
    "             30: 'MT',\n",
    "             31: 'NE',\n",
    "             32: 'NV',\n",
    "             33: 'NH',\n",
    "             34: 'NJ',\n",
    "             35: 'NM',\n",
    "             36: 'NY',\n",
    "             37: 'NC',\n",
    "             38: 'ND',\n",
    "             39: 'OH',\n",
    "             40: 'OK',\n",
    "             41: 'OR',\n",
    "             42: 'PA',\n",
    "             44: 'RI',\n",
    "             45: 'SC',\n",
    "             46: 'SD',\n",
    "             47: 'TN',\n",
    "             48: 'TX',\n",
    "             49: 'UT',\n",
    "             50: 'VT',\n",
    "             51: 'VA',\n",
    "             52: 'Shared Jurisdiction',\n",
    "             53: 'WA',\n",
    "             54: 'WV',\n",
    "             55: 'WI',\n",
    "             56: 'WY',\n",
    "             60: 'State Total',\n",
    "             70: 'State & Federal Total',\n",
    "             99: 'Federal BOP'\n",
    "            }\n",
    "\n",
    "sentences['state_'] = sentences.STATE.map(state_map)"
   ]
  },
  {
   "cell_type": "code",
   "execution_count": 6,
   "metadata": {
    "collapsed": true
   },
   "outputs": [],
   "source": [
    "race_map = {1: 'White',\n",
    "            2: 'Black',\n",
    "            3: 'Hispanic',\n",
    "            4: 'Other',\n",
    "            9: 'Missing'}\n",
    "\n",
    "sentences['race_'] = sentences.RACE.map(race_map)"
   ]
  },
  {
   "cell_type": "code",
   "execution_count": 7,
   "metadata": {
    "collapsed": true
   },
   "outputs": [],
   "source": [
    "admission_type_map = {1: 'New commitment',\n",
    "                 2: 'Parole return/revocation',\n",
    "                 3: 'Other',\n",
    "                 9: 'Missing'}\n",
    "\n",
    "sentences['admtype_'] = sentences.ADMTYPE.map(admission_type_map)"
   ]
  },
  {
   "cell_type": "code",
   "execution_count": 8,
   "metadata": {
    "collapsed": true
   },
   "outputs": [],
   "source": [
    "sentences.AGERELEASE = sentences.AGERELEASE.apply(pd.to_numeric, errors='ignore')\n",
    "sentences.AGERELEASE = sentences.AGERELEASE.apply(lambda x: 9 if isinstance(x, basestring) else x)\n",
    "\n",
    "sentences.AGEADMIT = sentences.AGEADMIT.apply(pd.to_numeric, errors='ignore')\n",
    "sentences.AGEADMIT = sentences.AGEADMIT.apply(lambda x: 9 if isinstance(x, basestring) else x)\n",
    "\n",
    "age_map = {1: '18-24',\n",
    "           2: '25-34',\n",
    "           3: '35-44',\n",
    "           4: '45-54',\n",
    "           5: '55+',\n",
    "           9: 'NA',}\n",
    "\n",
    "sentences['age_admit'] = sentences.AGEADMIT.map(age_map)\n",
    "sentences['age_release'] = sentences.AGERELEASE.map(age_map)"
   ]
  },
  {
   "cell_type": "code",
   "execution_count": 9,
   "metadata": {
    "collapsed": true
   },
   "outputs": [],
   "source": [
    "sentences.SENTLGTH = sentences.SENTLGTH.apply(pd.to_numeric, errors='ignore')\n",
    "sentences.SENTLGTH = sentences.SENTLGTH.apply(lambda x: 9 if isinstance(x, basestring) else x)\n",
    "\n",
    "sentlgth_map = {0: '<1',\n",
    "                1: '1-1.9',\n",
    "                2: '2-4.9',\n",
    "                3: '5-9.9',\n",
    "                4: '10-24.9',\n",
    "                5: '>=25',\n",
    "                6: 'Life',\n",
    "                9: 'Missing'}\n",
    "\n",
    "sentences['sentlgth_'] = sentences.SENTLGTH.map(sentlgth_map)"
   ]
  },
  {
   "cell_type": "code",
   "execution_count": 10,
   "metadata": {
    "collapsed": false
   },
   "outputs": [],
   "source": [
    "# Because all education values equal 9, I'm dropping education.\n",
    "sentences.drop('EDUCATION', axis=1, inplace=True)\n",
    "\n",
    "# Remapping sex from 1: male 2: female to 1: male 0: female.\n",
    "sentences.SEX = sentences.SEX.apply(lambda x: 0 if x == 2 else x)"
   ]
  },
  {
   "cell_type": "code",
   "execution_count": 11,
   "metadata": {
    "collapsed": true
   },
   "outputs": [],
   "source": [
    "sentences.RELTYPE = sentences.RELTYPE.apply(pd.to_numeric, errors='ignore')\n",
    "sentences.RELTYPE = sentences.RELTYPE.apply(lambda x: 9 if isinstance(x, basestring) else x)\n",
    "\n",
    "release_type_map = {1: 'Conditional release',\n",
    "                    2: 'Unconditional release',\n",
    "                    3: 'Other',\n",
    "                    9: 'Missing'}\n",
    "\n",
    "sentences['reltype_'] = sentences.RELTYPE.map(release_type_map)"
   ]
  },
  {
   "cell_type": "code",
   "execution_count": 23,
   "metadata": {
    "collapsed": false
   },
   "outputs": [],
   "source": [
    "sentences.MAND_PRISREL_YEAR.replace(' ', np.nan, inplace=True)\n",
    "sentences.PROJ_PRISREL_YEAR.replace(' ', np.nan, inplace=True)\n",
    "sentences.PARELIG_YEAR.replace(' ', np.nan, inplace=True)"
   ]
  },
  {
   "cell_type": "code",
   "execution_count": 12,
   "metadata": {
    "collapsed": true
   },
   "outputs": [],
   "source": [
    "sentences.PROJ_PRISREL_YEAR = sentences.PROJ_PRISREL_YEAR.apply(pd.to_numeric, errors='ignore')\n",
    "sentences.MAND_PRISREL_YEAR = sentences.MAND_PRISREL_YEAR.apply(pd.to_numeric, errors='ignore')\n",
    "sentences.PARELIG_YEAR = sentences.PARELIG_YEAR.apply(pd.to_numeric, errors='ignore')"
   ]
  },
  {
   "cell_type": "code",
   "execution_count": 13,
   "metadata": {
    "collapsed": false
   },
   "outputs": [],
   "source": [
    "# To make calculations (such as the length of an average prison sentence), I need to convert sentence ranges (e.g.\n",
    "# 10-25 years) to single numbers. So I inpute the ballpark median of each range. \n",
    "sentlgth_approx = { 0: 0, # '0' corresponds to a sentence < 1 year\n",
    "                    1: 1, # '1' to a sentence 1-1.9 years \n",
    "                    2: 4, # '2' to a sentence 2-4.9 years\n",
    "                    3: 7, # '3' to a sentence 5-9.9 years\n",
    "                    4: 17, # '4' to a sentence 10-24.9 years\n",
    "                    5: 30, # '5' to a sentence >= 25 years\n",
    "                    6: 55, # '6' to a life sentence\n",
    "                    9: np.nan} # '9' to a missing sentence length.\n",
    "\n",
    "sentences['sent_approx'] = sentences.SENTLGTH.map(sentlgth_approx)"
   ]
  },
  {
   "cell_type": "code",
   "execution_count": 15,
   "metadata": {
    "collapsed": true
   },
   "outputs": [],
   "source": [
    "# I want to calculate a best guess for each prisoner's sentence length (or, if a sentence has been completed, the \n",
    "# actual length of that sentence). So, if the prisoner has been released, this will equal the release year minus\n",
    "# the year admitted. If the prisoner is still incarcerated, it will equal the projected release year minus the year\n",
    "# admitted, unless projected release year is not availble, in which case it will equal mandatory release year minus  \n",
    "# the year admitted, unless mandatory release year is not available, in which case it will equal parole eligibility  \n",
    "# year minus the year admitted (perhaps I should have switched the order, such that the year of parole elibility was\n",
    "# checked before the mandatory release year), unless the year of parole eligibility is not available, in which \n",
    "# case it will equal the sentence length approximation calculated in the cell above.\n",
    "\n",
    "def proj_time_served(dataframe):\n",
    "    if 0 <= dataframe['RELEASEYR'] - dataframe['ADMITYR'] < 100 and dataframe['RELEASEYR'] != 9999:\n",
    "        return dataframe['RELEASEYR'] - dataframe['ADMITYR']\n",
    "    elif dataframe['RELEASEYR'] - dataframe['ADMITYR'] >= 100:\n",
    "        try:\n",
    "            if 0 <= dataframe['PROJ_PRISREL_YEAR'] - dataframe['ADMITYR'] < 100:\n",
    "                return dataframe['PROJ_PRISREL_YEAR'] - dataframe['ADMITYR']\n",
    "            elif dataframe['PROJ_PRISREL_YEAR'] - dataframe['ADMITYR'] > 100 and dataframe['PROJ_PRISREL_YEAR'] != 9997:\n",
    "                return 60\n",
    "        except TypeError: \n",
    "            try: \n",
    "                if 0 <= dataframe['MAND_PRISREL_YEAR'] - dataframe['ADMITYR'] < 100:\n",
    "                    return dataframe['MAND_PRISREL_YEAR'] - dataframe['ADMITYR']\n",
    "                elif dataframe['MAND_PRISREL_YEAR'] - dataframe['ADMITYR'] > 100 and dataframe['MAND_PRISREL_YEAR'] != 9997:\n",
    "                    return 60\n",
    "            except TypeError:\n",
    "                try:\n",
    "                    if 0 <= dataframe['PARELIG_YEAR'] - dataframe['ADMITYR'] < 100:\n",
    "                        return dataframe['PARELIG_YEAR'] - dataframe['ADMITYR']\n",
    "                    elif dataframe['PARELIG_YEAR'] - dataframe['ADMITYR'] > 100 and dataframe['PARELIG_YEAR'] != 9997:\n",
    "                        return 60\n",
    "                except TypeError:\n",
    "                    return dataframe['sent_approx']            \n",
    "    else:\n",
    "        pass\n",
    "    \n",
    "sentences['proj_time_served'] = sentences.apply(proj_time_served, axis=1)"
   ]
  },
  {
   "cell_type": "code",
   "execution_count": 28,
   "metadata": {
    "collapsed": false
   },
   "outputs": [],
   "source": [
    "sentences.to_csv('/users/nick/desktop/sentences.csv')"
   ]
  }
 ],
 "metadata": {
  "anaconda-cloud": {},
  "kernelspec": {
   "display_name": "Python [Root]",
   "language": "python",
   "name": "Python [Root]"
  },
  "language_info": {
   "codemirror_mode": {
    "name": "ipython",
    "version": 2
   },
   "file_extension": ".py",
   "mimetype": "text/x-python",
   "name": "python",
   "nbconvert_exporter": "python",
   "pygments_lexer": "ipython2",
   "version": "2.7.12"
  }
 },
 "nbformat": 4,
 "nbformat_minor": 0
}
